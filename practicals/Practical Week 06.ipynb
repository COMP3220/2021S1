{
 "cells": [
  {
   "source": [
    "# Practical Week 6: Multi-label Classification\n",
    "In this practical you will practice with multi-label classification, in preparation for assignment 2.\n",
    "\n",
    "In a multi-label classification task, the documents may have one or more labels (or sometimes none). An example of multi-label classification of images is to assign keywords to images. This blog post shows an example of multi-label text classification using scikit-learn. The post describes multiple methods you can use for the task. In this practical we will use the same data:\n",
    "\n",
    "* [Multi-label Text Classification](https://towardsdatascience.com/multi-label-text-classification-5c505fdedca8)\n"
   ],
   "cell_type": "markdown",
   "metadata": {}
  },
  {
   "source": [
    "The following code loads the [CMU Movie Summary Corpus](http://www.cs.cmu.edu/~ark/personas/) and prepares it for use in the practical exercises. The corpus consists of movie plots and additional information, including the genre (or genres) of each movie. Your task will be to determine the genres of a movie, given the text of the movie plot. For this code to work, the following file must be in the same folder as this notebook:\n",
    "* [MovieSummaries.zip](MovieSummaries.zip)"
   ],
   "cell_type": "markdown",
   "metadata": {}
  },
  {
   "cell_type": "code",
   "execution_count": 11,
   "metadata": {},
   "outputs": [
    {
     "output_type": "execute_result",
     "data": {
      "text/plain": [
       "   movie_id  ...                                              genre\n",
       "0    975900  ...  {\"/m/01jfsb\": \"Thriller\", \"/m/06n90\": \"Science...\n",
       "1   3196793  ...  {\"/m/02n4kr\": \"Mystery\", \"/m/03bxz7\": \"Biograp...\n",
       "2  28463795  ...  {\"/m/0lsxr\": \"Crime Fiction\", \"/m/07s9rl0\": \"D...\n",
       "3   9363483  ...  {\"/m/01jfsb\": \"Thriller\", \"/m/0glj9q\": \"Erotic...\n",
       "4    261236  ...                            {\"/m/07s9rl0\": \"Drama\"}\n",
       "\n",
       "[5 rows x 3 columns]"
      ],
      "text/html": "<div>\n<style scoped>\n    .dataframe tbody tr th:only-of-type {\n        vertical-align: middle;\n    }\n\n    .dataframe tbody tr th {\n        vertical-align: top;\n    }\n\n    .dataframe thead th {\n        text-align: right;\n    }\n</style>\n<table border=\"1\" class=\"dataframe\">\n  <thead>\n    <tr style=\"text-align: right;\">\n      <th></th>\n      <th>movie_id</th>\n      <th>movie_name</th>\n      <th>genre</th>\n    </tr>\n  </thead>\n  <tbody>\n    <tr>\n      <th>0</th>\n      <td>975900</td>\n      <td>Ghosts of Mars</td>\n      <td>{\"/m/01jfsb\": \"Thriller\", \"/m/06n90\": \"Science...</td>\n    </tr>\n    <tr>\n      <th>1</th>\n      <td>3196793</td>\n      <td>Getting Away with Murder: The JonBenét Ramsey ...</td>\n      <td>{\"/m/02n4kr\": \"Mystery\", \"/m/03bxz7\": \"Biograp...</td>\n    </tr>\n    <tr>\n      <th>2</th>\n      <td>28463795</td>\n      <td>Brun bitter</td>\n      <td>{\"/m/0lsxr\": \"Crime Fiction\", \"/m/07s9rl0\": \"D...</td>\n    </tr>\n    <tr>\n      <th>3</th>\n      <td>9363483</td>\n      <td>White Of The Eye</td>\n      <td>{\"/m/01jfsb\": \"Thriller\", \"/m/0glj9q\": \"Erotic...</td>\n    </tr>\n    <tr>\n      <th>4</th>\n      <td>261236</td>\n      <td>A Woman in Flames</td>\n      <td>{\"/m/07s9rl0\": \"Drama\"}</td>\n    </tr>\n  </tbody>\n</table>\n</div>"
     },
     "metadata": {},
     "execution_count": 11
    }
   ],
   "source": [
    "import pandas as pd\n",
    "from zipfile import ZipFile\n",
    "zip_file = ZipFile('MovieSummaries.zip')\n",
    "metadata = pd.read_csv(zip_file.open('MovieSummaries/movie.metadata.tsv'), sep='\\t', header=None)\n",
    "metadata.columns = [\"movie_id\",1,\"movie_name\",3,4,5,6,7,\"genre\"]\n",
    "genres = metadata[[\"movie_id\",\"movie_name\",\"genre\"]]\n",
    "genres.head()"
   ]
  },
  {
   "cell_type": "code",
   "execution_count": 12,
   "metadata": {},
   "outputs": [
    {
     "output_type": "execute_result",
     "data": {
      "text/plain": [
       "   movie_id                                               plot\n",
       "0  23890098  Shlykov, a hard-working taxi driver and Lyosha...\n",
       "1  31186339  The nation of Panem consists of a wealthy Capi...\n",
       "2  20663735  Poovalli Induchoodan  is sentenced for six yea...\n",
       "3   2231378  The Lemon Drop Kid , a New York City swindler,...\n",
       "4    595909  Seventh-day Adventist Church pastor Michael Ch..."
      ],
      "text/html": "<div>\n<style scoped>\n    .dataframe tbody tr th:only-of-type {\n        vertical-align: middle;\n    }\n\n    .dataframe tbody tr th {\n        vertical-align: top;\n    }\n\n    .dataframe thead th {\n        text-align: right;\n    }\n</style>\n<table border=\"1\" class=\"dataframe\">\n  <thead>\n    <tr style=\"text-align: right;\">\n      <th></th>\n      <th>movie_id</th>\n      <th>plot</th>\n    </tr>\n  </thead>\n  <tbody>\n    <tr>\n      <th>0</th>\n      <td>23890098</td>\n      <td>Shlykov, a hard-working taxi driver and Lyosha...</td>\n    </tr>\n    <tr>\n      <th>1</th>\n      <td>31186339</td>\n      <td>The nation of Panem consists of a wealthy Capi...</td>\n    </tr>\n    <tr>\n      <th>2</th>\n      <td>20663735</td>\n      <td>Poovalli Induchoodan  is sentenced for six yea...</td>\n    </tr>\n    <tr>\n      <th>3</th>\n      <td>2231378</td>\n      <td>The Lemon Drop Kid , a New York City swindler,...</td>\n    </tr>\n    <tr>\n      <th>4</th>\n      <td>595909</td>\n      <td>Seventh-day Adventist Church pastor Michael Ch...</td>\n    </tr>\n  </tbody>\n</table>\n</div>"
     },
     "metadata": {},
     "execution_count": 12
    }
   ],
   "source": [
    "plots = pd.read_csv(zip_file.open('MovieSummaries/plot_summaries.txt'), sep='\\t', header=None)\n",
    "plots.columns = [\"movie_id\", \"plot\"]\n",
    "plots.head()"
   ]
  },
  {
   "cell_type": "code",
   "execution_count": 13,
   "metadata": {},
   "outputs": [
    {
     "output_type": "execute_result",
     "data": {
      "text/plain": [
       "   movie_id  ...                                              genre\n",
       "0  23890098  ...  {\"/m/07s9rl0\": \"Drama\", \"/m/03q4nz\": \"World ci...\n",
       "1  31186339  ...  {\"/m/03btsm8\": \"Action/Adventure\", \"/m/06n90\":...\n",
       "2  20663735  ...  {\"/m/04t36\": \"Musical\", \"/m/02kdv5l\": \"Action\"...\n",
       "3   2231378  ...  {\"/m/06qm3\": \"Screwball comedy\", \"/m/01z4y\": \"...\n",
       "4    595909  ...  {\"/m/0lsxr\": \"Crime Fiction\", \"/m/07s9rl0\": \"D...\n",
       "\n",
       "[5 rows x 4 columns]"
      ],
      "text/html": "<div>\n<style scoped>\n    .dataframe tbody tr th:only-of-type {\n        vertical-align: middle;\n    }\n\n    .dataframe tbody tr th {\n        vertical-align: top;\n    }\n\n    .dataframe thead th {\n        text-align: right;\n    }\n</style>\n<table border=\"1\" class=\"dataframe\">\n  <thead>\n    <tr style=\"text-align: right;\">\n      <th></th>\n      <th>movie_id</th>\n      <th>plot</th>\n      <th>movie_name</th>\n      <th>genre</th>\n    </tr>\n  </thead>\n  <tbody>\n    <tr>\n      <th>0</th>\n      <td>23890098</td>\n      <td>Shlykov, a hard-working taxi driver and Lyosha...</td>\n      <td>Taxi Blues</td>\n      <td>{\"/m/07s9rl0\": \"Drama\", \"/m/03q4nz\": \"World ci...</td>\n    </tr>\n    <tr>\n      <th>1</th>\n      <td>31186339</td>\n      <td>The nation of Panem consists of a wealthy Capi...</td>\n      <td>The Hunger Games</td>\n      <td>{\"/m/03btsm8\": \"Action/Adventure\", \"/m/06n90\":...</td>\n    </tr>\n    <tr>\n      <th>2</th>\n      <td>20663735</td>\n      <td>Poovalli Induchoodan  is sentenced for six yea...</td>\n      <td>Narasimham</td>\n      <td>{\"/m/04t36\": \"Musical\", \"/m/02kdv5l\": \"Action\"...</td>\n    </tr>\n    <tr>\n      <th>3</th>\n      <td>2231378</td>\n      <td>The Lemon Drop Kid , a New York City swindler,...</td>\n      <td>The Lemon Drop Kid</td>\n      <td>{\"/m/06qm3\": \"Screwball comedy\", \"/m/01z4y\": \"...</td>\n    </tr>\n    <tr>\n      <th>4</th>\n      <td>595909</td>\n      <td>Seventh-day Adventist Church pastor Michael Ch...</td>\n      <td>A Cry in the Dark</td>\n      <td>{\"/m/0lsxr\": \"Crime Fiction\", \"/m/07s9rl0\": \"D...</td>\n    </tr>\n  </tbody>\n</table>\n</div>"
     },
     "metadata": {},
     "execution_count": 13
    }
   ],
   "source": [
    "movies = pd.merge(plots, genres, on = 'movie_id')\n",
    "movies.head()"
   ]
  },
  {
   "cell_type": "code",
   "execution_count": 14,
   "metadata": {},
   "outputs": [
    {
     "output_type": "execute_result",
     "data": {
      "text/plain": [
       "   movie_id  ...                                              genre\n",
       "0  23890098  ...                              [Drama, World cinema]\n",
       "1  31186339  ...  [Action/Adventure, Science Fiction, Action, Dr...\n",
       "2  20663735  ...                [Musical, Action, Drama, Bollywood]\n",
       "3   2231378  ...                         [Screwball comedy, Comedy]\n",
       "4    595909  ...  [Crime Fiction, Drama, Docudrama, World cinema...\n",
       "\n",
       "[5 rows x 4 columns]"
      ],
      "text/html": "<div>\n<style scoped>\n    .dataframe tbody tr th:only-of-type {\n        vertical-align: middle;\n    }\n\n    .dataframe tbody tr th {\n        vertical-align: top;\n    }\n\n    .dataframe thead th {\n        text-align: right;\n    }\n</style>\n<table border=\"1\" class=\"dataframe\">\n  <thead>\n    <tr style=\"text-align: right;\">\n      <th></th>\n      <th>movie_id</th>\n      <th>plot</th>\n      <th>movie_name</th>\n      <th>genre</th>\n    </tr>\n  </thead>\n  <tbody>\n    <tr>\n      <th>0</th>\n      <td>23890098</td>\n      <td>Shlykov, a hard-working taxi driver and Lyosha...</td>\n      <td>Taxi Blues</td>\n      <td>[Drama, World cinema]</td>\n    </tr>\n    <tr>\n      <th>1</th>\n      <td>31186339</td>\n      <td>The nation of Panem consists of a wealthy Capi...</td>\n      <td>The Hunger Games</td>\n      <td>[Action/Adventure, Science Fiction, Action, Dr...</td>\n    </tr>\n    <tr>\n      <th>2</th>\n      <td>20663735</td>\n      <td>Poovalli Induchoodan  is sentenced for six yea...</td>\n      <td>Narasimham</td>\n      <td>[Musical, Action, Drama, Bollywood]</td>\n    </tr>\n    <tr>\n      <th>3</th>\n      <td>2231378</td>\n      <td>The Lemon Drop Kid , a New York City swindler,...</td>\n      <td>The Lemon Drop Kid</td>\n      <td>[Screwball comedy, Comedy]</td>\n    </tr>\n    <tr>\n      <th>4</th>\n      <td>595909</td>\n      <td>Seventh-day Adventist Church pastor Michael Ch...</td>\n      <td>A Cry in the Dark</td>\n      <td>[Crime Fiction, Drama, Docudrama, World cinema...</td>\n    </tr>\n  </tbody>\n</table>\n</div>"
     },
     "metadata": {},
     "execution_count": 14
    }
   ],
   "source": [
    "import json\n",
    "genres_lists = []\n",
    "for i in movies['genre']:\n",
    "   genres_lists.append(list(json.loads(i).values()))\n",
    "movies['genre'] = genres_lists\n",
    "movies.head()"
   ]
  },
  {
   "source": [
    "The following code uses scikit-learn's `MultiLabelBinarizer` to generate a column for each movie genre:"
   ],
   "cell_type": "markdown",
   "metadata": {}
  },
  {
   "cell_type": "code",
   "execution_count": 15,
   "metadata": {},
   "outputs": [
    {
     "output_type": "execute_result",
     "data": {
      "text/plain": [
       "   movie_id  ... Zombie Film\n",
       "0  23890098  ...           0\n",
       "1  31186339  ...           0\n",
       "2  20663735  ...           0\n",
       "3   2231378  ...           0\n",
       "4    595909  ...           0\n",
       "\n",
       "[5 rows x 367 columns]"
      ],
      "text/html": "<div>\n<style scoped>\n    .dataframe tbody tr th:only-of-type {\n        vertical-align: middle;\n    }\n\n    .dataframe tbody tr th {\n        vertical-align: top;\n    }\n\n    .dataframe thead th {\n        text-align: right;\n    }\n</style>\n<table border=\"1\" class=\"dataframe\">\n  <thead>\n    <tr style=\"text-align: right;\">\n      <th></th>\n      <th>movie_id</th>\n      <th>plot</th>\n      <th>movie_name</th>\n      <th>genre</th>\n      <th>Absurdism</th>\n      <th>Acid western</th>\n      <th>Action</th>\n      <th>Action Comedy</th>\n      <th>Action Thrillers</th>\n      <th>Action/Adventure</th>\n      <th>Addiction Drama</th>\n      <th>Adult</th>\n      <th>Adventure</th>\n      <th>Adventure Comedy</th>\n      <th>Airplanes and airports</th>\n      <th>Albino bias</th>\n      <th>Alien Film</th>\n      <th>Alien invasion</th>\n      <th>Americana</th>\n      <th>Animal Picture</th>\n      <th>Animals</th>\n      <th>Animated Musical</th>\n      <th>Animated cartoon</th>\n      <th>Animation</th>\n      <th>Anime</th>\n      <th>Anthology</th>\n      <th>Anthropology</th>\n      <th>Anti-war</th>\n      <th>Anti-war film</th>\n      <th>Apocalyptic and post-apocalyptic fiction</th>\n      <th>Archaeology</th>\n      <th>Archives and records</th>\n      <th>Art film</th>\n      <th>Auto racing</th>\n      <th>Avant-garde</th>\n      <th>B-Western</th>\n      <th>B-movie</th>\n      <th>Backstage Musical</th>\n      <th>Baseball</th>\n      <th>Beach Film</th>\n      <th>...</th>\n      <th>Star vehicle</th>\n      <th>Statutory rape</th>\n      <th>Steampunk</th>\n      <th>Stoner film</th>\n      <th>Stop motion</th>\n      <th>Superhero</th>\n      <th>Superhero movie</th>\n      <th>Supermarionation</th>\n      <th>Supernatural</th>\n      <th>Surrealism</th>\n      <th>Suspense</th>\n      <th>Swashbuckler films</th>\n      <th>Sword and Sandal</th>\n      <th>Sword and sorcery</th>\n      <th>Sword and sorcery films</th>\n      <th>Tamil cinema</th>\n      <th>Teen</th>\n      <th>Television movie</th>\n      <th>The Netherlands in World War II</th>\n      <th>Therimin music</th>\n      <th>Thriller</th>\n      <th>Time travel</th>\n      <th>Tokusatsu</th>\n      <th>Tollywood</th>\n      <th>Tragedy</th>\n      <th>Tragicomedy</th>\n      <th>Travel</th>\n      <th>Vampire movies</th>\n      <th>War effort</th>\n      <th>War film</th>\n      <th>Werewolf fiction</th>\n      <th>Western</th>\n      <th>Whodunit</th>\n      <th>Women in prison films</th>\n      <th>Workplace Comedy</th>\n      <th>World History</th>\n      <th>World cinema</th>\n      <th>Wuxia</th>\n      <th>Z movie</th>\n      <th>Zombie Film</th>\n    </tr>\n  </thead>\n  <tbody>\n    <tr>\n      <th>0</th>\n      <td>23890098</td>\n      <td>Shlykov, a hard-working taxi driver and Lyosha...</td>\n      <td>Taxi Blues</td>\n      <td>[Drama, World cinema]</td>\n      <td>0</td>\n      <td>0</td>\n      <td>0</td>\n      <td>0</td>\n      <td>0</td>\n      <td>0</td>\n      <td>0</td>\n      <td>0</td>\n      <td>0</td>\n      <td>0</td>\n      <td>0</td>\n      <td>0</td>\n      <td>0</td>\n      <td>0</td>\n      <td>0</td>\n      <td>0</td>\n      <td>0</td>\n      <td>0</td>\n      <td>0</td>\n      <td>0</td>\n      <td>0</td>\n      <td>0</td>\n      <td>0</td>\n      <td>0</td>\n      <td>0</td>\n      <td>0</td>\n      <td>0</td>\n      <td>0</td>\n      <td>0</td>\n      <td>0</td>\n      <td>0</td>\n      <td>0</td>\n      <td>0</td>\n      <td>0</td>\n      <td>0</td>\n      <td>0</td>\n      <td>...</td>\n      <td>0</td>\n      <td>0</td>\n      <td>0</td>\n      <td>0</td>\n      <td>0</td>\n      <td>0</td>\n      <td>0</td>\n      <td>0</td>\n      <td>0</td>\n      <td>0</td>\n      <td>0</td>\n      <td>0</td>\n      <td>0</td>\n      <td>0</td>\n      <td>0</td>\n      <td>0</td>\n      <td>0</td>\n      <td>0</td>\n      <td>0</td>\n      <td>0</td>\n      <td>0</td>\n      <td>0</td>\n      <td>0</td>\n      <td>0</td>\n      <td>0</td>\n      <td>0</td>\n      <td>0</td>\n      <td>0</td>\n      <td>0</td>\n      <td>0</td>\n      <td>0</td>\n      <td>0</td>\n      <td>0</td>\n      <td>0</td>\n      <td>0</td>\n      <td>0</td>\n      <td>1</td>\n      <td>0</td>\n      <td>0</td>\n      <td>0</td>\n    </tr>\n    <tr>\n      <th>1</th>\n      <td>31186339</td>\n      <td>The nation of Panem consists of a wealthy Capi...</td>\n      <td>The Hunger Games</td>\n      <td>[Action/Adventure, Science Fiction, Action, Dr...</td>\n      <td>0</td>\n      <td>0</td>\n      <td>1</td>\n      <td>0</td>\n      <td>0</td>\n      <td>1</td>\n      <td>0</td>\n      <td>0</td>\n      <td>0</td>\n      <td>0</td>\n      <td>0</td>\n      <td>0</td>\n      <td>0</td>\n      <td>0</td>\n      <td>0</td>\n      <td>0</td>\n      <td>0</td>\n      <td>0</td>\n      <td>0</td>\n      <td>0</td>\n      <td>0</td>\n      <td>0</td>\n      <td>0</td>\n      <td>0</td>\n      <td>0</td>\n      <td>0</td>\n      <td>0</td>\n      <td>0</td>\n      <td>0</td>\n      <td>0</td>\n      <td>0</td>\n      <td>0</td>\n      <td>0</td>\n      <td>0</td>\n      <td>0</td>\n      <td>0</td>\n      <td>...</td>\n      <td>0</td>\n      <td>0</td>\n      <td>0</td>\n      <td>0</td>\n      <td>0</td>\n      <td>0</td>\n      <td>0</td>\n      <td>0</td>\n      <td>0</td>\n      <td>0</td>\n      <td>0</td>\n      <td>0</td>\n      <td>0</td>\n      <td>0</td>\n      <td>0</td>\n      <td>0</td>\n      <td>0</td>\n      <td>0</td>\n      <td>0</td>\n      <td>0</td>\n      <td>0</td>\n      <td>0</td>\n      <td>0</td>\n      <td>0</td>\n      <td>0</td>\n      <td>0</td>\n      <td>0</td>\n      <td>0</td>\n      <td>0</td>\n      <td>0</td>\n      <td>0</td>\n      <td>0</td>\n      <td>0</td>\n      <td>0</td>\n      <td>0</td>\n      <td>0</td>\n      <td>0</td>\n      <td>0</td>\n      <td>0</td>\n      <td>0</td>\n    </tr>\n    <tr>\n      <th>2</th>\n      <td>20663735</td>\n      <td>Poovalli Induchoodan  is sentenced for six yea...</td>\n      <td>Narasimham</td>\n      <td>[Musical, Action, Drama, Bollywood]</td>\n      <td>0</td>\n      <td>0</td>\n      <td>1</td>\n      <td>0</td>\n      <td>0</td>\n      <td>0</td>\n      <td>0</td>\n      <td>0</td>\n      <td>0</td>\n      <td>0</td>\n      <td>0</td>\n      <td>0</td>\n      <td>0</td>\n      <td>0</td>\n      <td>0</td>\n      <td>0</td>\n      <td>0</td>\n      <td>0</td>\n      <td>0</td>\n      <td>0</td>\n      <td>0</td>\n      <td>0</td>\n      <td>0</td>\n      <td>0</td>\n      <td>0</td>\n      <td>0</td>\n      <td>0</td>\n      <td>0</td>\n      <td>0</td>\n      <td>0</td>\n      <td>0</td>\n      <td>0</td>\n      <td>0</td>\n      <td>0</td>\n      <td>0</td>\n      <td>0</td>\n      <td>...</td>\n      <td>0</td>\n      <td>0</td>\n      <td>0</td>\n      <td>0</td>\n      <td>0</td>\n      <td>0</td>\n      <td>0</td>\n      <td>0</td>\n      <td>0</td>\n      <td>0</td>\n      <td>0</td>\n      <td>0</td>\n      <td>0</td>\n      <td>0</td>\n      <td>0</td>\n      <td>0</td>\n      <td>0</td>\n      <td>0</td>\n      <td>0</td>\n      <td>0</td>\n      <td>0</td>\n      <td>0</td>\n      <td>0</td>\n      <td>0</td>\n      <td>0</td>\n      <td>0</td>\n      <td>0</td>\n      <td>0</td>\n      <td>0</td>\n      <td>0</td>\n      <td>0</td>\n      <td>0</td>\n      <td>0</td>\n      <td>0</td>\n      <td>0</td>\n      <td>0</td>\n      <td>0</td>\n      <td>0</td>\n      <td>0</td>\n      <td>0</td>\n    </tr>\n    <tr>\n      <th>3</th>\n      <td>2231378</td>\n      <td>The Lemon Drop Kid , a New York City swindler,...</td>\n      <td>The Lemon Drop Kid</td>\n      <td>[Screwball comedy, Comedy]</td>\n      <td>0</td>\n      <td>0</td>\n      <td>0</td>\n      <td>0</td>\n      <td>0</td>\n      <td>0</td>\n      <td>0</td>\n      <td>0</td>\n      <td>0</td>\n      <td>0</td>\n      <td>0</td>\n      <td>0</td>\n      <td>0</td>\n      <td>0</td>\n      <td>0</td>\n      <td>0</td>\n      <td>0</td>\n      <td>0</td>\n      <td>0</td>\n      <td>0</td>\n      <td>0</td>\n      <td>0</td>\n      <td>0</td>\n      <td>0</td>\n      <td>0</td>\n      <td>0</td>\n      <td>0</td>\n      <td>0</td>\n      <td>0</td>\n      <td>0</td>\n      <td>0</td>\n      <td>0</td>\n      <td>0</td>\n      <td>0</td>\n      <td>0</td>\n      <td>0</td>\n      <td>...</td>\n      <td>0</td>\n      <td>0</td>\n      <td>0</td>\n      <td>0</td>\n      <td>0</td>\n      <td>0</td>\n      <td>0</td>\n      <td>0</td>\n      <td>0</td>\n      <td>0</td>\n      <td>0</td>\n      <td>0</td>\n      <td>0</td>\n      <td>0</td>\n      <td>0</td>\n      <td>0</td>\n      <td>0</td>\n      <td>0</td>\n      <td>0</td>\n      <td>0</td>\n      <td>0</td>\n      <td>0</td>\n      <td>0</td>\n      <td>0</td>\n      <td>0</td>\n      <td>0</td>\n      <td>0</td>\n      <td>0</td>\n      <td>0</td>\n      <td>0</td>\n      <td>0</td>\n      <td>0</td>\n      <td>0</td>\n      <td>0</td>\n      <td>0</td>\n      <td>0</td>\n      <td>0</td>\n      <td>0</td>\n      <td>0</td>\n      <td>0</td>\n    </tr>\n    <tr>\n      <th>4</th>\n      <td>595909</td>\n      <td>Seventh-day Adventist Church pastor Michael Ch...</td>\n      <td>A Cry in the Dark</td>\n      <td>[Crime Fiction, Drama, Docudrama, World cinema...</td>\n      <td>0</td>\n      <td>0</td>\n      <td>0</td>\n      <td>0</td>\n      <td>0</td>\n      <td>0</td>\n      <td>0</td>\n      <td>0</td>\n      <td>0</td>\n      <td>0</td>\n      <td>0</td>\n      <td>0</td>\n      <td>0</td>\n      <td>0</td>\n      <td>0</td>\n      <td>0</td>\n      <td>0</td>\n      <td>0</td>\n      <td>0</td>\n      <td>0</td>\n      <td>0</td>\n      <td>0</td>\n      <td>0</td>\n      <td>0</td>\n      <td>0</td>\n      <td>0</td>\n      <td>0</td>\n      <td>0</td>\n      <td>0</td>\n      <td>0</td>\n      <td>0</td>\n      <td>0</td>\n      <td>0</td>\n      <td>0</td>\n      <td>0</td>\n      <td>0</td>\n      <td>...</td>\n      <td>0</td>\n      <td>0</td>\n      <td>0</td>\n      <td>0</td>\n      <td>0</td>\n      <td>0</td>\n      <td>0</td>\n      <td>0</td>\n      <td>0</td>\n      <td>0</td>\n      <td>0</td>\n      <td>0</td>\n      <td>0</td>\n      <td>0</td>\n      <td>0</td>\n      <td>0</td>\n      <td>0</td>\n      <td>0</td>\n      <td>0</td>\n      <td>0</td>\n      <td>0</td>\n      <td>0</td>\n      <td>0</td>\n      <td>0</td>\n      <td>0</td>\n      <td>0</td>\n      <td>0</td>\n      <td>0</td>\n      <td>0</td>\n      <td>0</td>\n      <td>0</td>\n      <td>0</td>\n      <td>0</td>\n      <td>0</td>\n      <td>0</td>\n      <td>0</td>\n      <td>1</td>\n      <td>0</td>\n      <td>0</td>\n      <td>0</td>\n    </tr>\n  </tbody>\n</table>\n<p>5 rows × 367 columns</p>\n</div>"
     },
     "metadata": {},
     "execution_count": 15
    }
   ],
   "source": [
    "\n",
    "from sklearn.preprocessing import MultiLabelBinarizer\n",
    "multilabel_binarizer = MultiLabelBinarizer()\n",
    "multilabel_binarizer.fit_transform(movies['genre'])\n",
    " # transform target variable\n",
    "y = multilabel_binarizer.transform(movies['genre'])\n",
    "for idx, genre in enumerate(multilabel_binarizer.classes_):\n",
    "    movies[genre] = y[:,idx]\n",
    "movies.head()"
   ]
  },
  {
   "source": [
    "Finally, the following code uses scikit-learn to split the data into a train set, a dev-test set, and a development set."
   ],
   "cell_type": "markdown",
   "metadata": {}
  },
  {
   "cell_type": "code",
   "execution_count": 17,
   "metadata": {},
   "outputs": [
    {
     "output_type": "stream",
     "name": "stdout",
     "text": [
      "Training size: 20679\nDevtest size: 8863\nTest size: 12662\n"
     ]
    }
   ],
   "source": [
    "from sklearn.model_selection import train_test_split\n",
    "train, test = train_test_split(movies, random_state=42, test_size=0.30, shuffle=True)\n",
    "train, devtest = train_test_split(train, random_state=42, test_size=0.30, shuffle=True)\n",
    "print(\"Training size:\", len(train))\n",
    "print(\"Devtest size:\", len(devtest))\n",
    "print(\"Test size:\", len(test))"
   ]
  },
  {
   "cell_type": "code",
   "execution_count": 31,
   "metadata": {},
   "outputs": [],
   "source": [
    "train_texts = list(train['plot'])\n",
    "train_labels = train.drop(labels=['movie_id', 'movie_name', 'plot', 'genre'], axis=1).to_numpy()"
   ]
  },
  {
   "cell_type": "code",
   "execution_count": 32,
   "metadata": {},
   "outputs": [],
   "source": [
    "devtest_texts = list(devtest['plot'])\n",
    "devtest_labels = devtest.drop(labels=['movie_id', 'movie_name', 'plot', 'genre'], axis=1).to_numpy()"
   ]
  },
  {
   "cell_type": "code",
   "execution_count": 33,
   "metadata": {},
   "outputs": [],
   "source": [
    "test_texts = list(test['plot'])\n",
    "test_labels = test.drop(labels=['movie_id', 'movie_name', 'plot', 'genre'], axis=1).to_numpy()"
   ]
  },
  {
   "source": [
    "# Exercise: A Simple Classifier\n",
    "\n",
    "Design a TensorFlow-Keras neural model that has the following sequence of layers:\n",
    "\n",
    "1. An input layer that will accept the tf.idf encoding of the input text, using the top 8000 words. For this, you can use scikit-learn's `TfidfVectorizer` with the option `max_features=8000`.\n",
    "2. An output layer with as many cells as possible movie genres (there are 363 distinct genres, can you find out how to calculate the number of distinct genres?).\n",
    "\n",
    "Each output cell will act as a binary classifier, so the activation function should be `sigmoid`, and the loss function should be `binary_crossentropy`.\n",
    "\n",
    "Train your neural model using the training set. Determine the optimal number of epochs by examining the accuracy results on the devtest set. The model summary should look like this:\n",
    "\n",
    "```\n",
    "Layer (type)                 Output Shape              Param #   \n",
    "=================================================================\n",
    "dense_2 (Dense)              (None, 363)               2904363   \n",
    "=================================================================\n",
    "Total params: 2,904,363\n",
    "Trainable params: 2,904,363\n",
    "Non-trainable params: 0\n",
    "```"
   ],
   "cell_type": "markdown",
   "metadata": {}
  },
  {
   "cell_type": "code",
   "execution_count": 1,
   "metadata": {},
   "outputs": [],
   "source": [
    "# Write your code here"
   ]
  },
  {
   "source": [
    "## Exercise: A Recurrent Neural Network\n",
    "\n",
    "Implement a recurrent neural network that has the following sequence of layers:\n",
    "\n",
    "1. An embedding layer that generates embedding vectors with 100 dimensions. Set the maximum input length to 100 words.\n",
    "2. A LSTM layer that generates an output of 120 dimensions.\n",
    "3. The final output layer that has the 363 cells with a sigmoid activation.\n",
    "\n",
    "The model summary should look like this:\n",
    "\n",
    "```\n",
    "Layer (type)                 Output Shape              Param #   \n",
    "=================================================================\n",
    "embedding_4 (Embedding)      (None, 100, 100)          800000    \n",
    "_________________________________________________________________\n",
    "lstm_4 (LSTM)                (None, 120)               106080    \n",
    "_________________________________________________________________\n",
    "dense_7 (Dense)              (None, 363)               43923     \n",
    "=================================================================\n",
    "Total params: 950,003\n",
    "Trainable params: 950,003\n",
    "Non-trainable params: 0\n",
    "```\n",
    "\n",
    "For this exercise, use Keras' tokenizer with the option `num_words=8000` (so that you use the same vocabulary size as in the previous exercise).\n"
   ],
   "cell_type": "markdown",
   "metadata": {}
  },
  {
   "cell_type": "code",
   "execution_count": 2,
   "metadata": {},
   "outputs": [],
   "source": [
    "# Write your code here"
   ]
  },
  {
   "source": [
    "## Optional Exercise: A More Complex Neural Network\n",
    "\n",
    "Try to improve your classifiers by trying some of these options:\n",
    "\n",
    "1. Use a different number of words, number of embeddings dimensions, etc.\n",
    "2. Add hidden layers.\n",
    "2. Stack LSTM layers (this may make the system much slower to train; use it only if your computer has a GPU).\n",
    "3. Use pre-trained word embeddings.\n",
    "4. Use BERT from the Huggingface `transformers` library https://github.com/huggingface/transformers (this may make the system much slower to train; use it only if your computer has a GPU)."
   ],
   "cell_type": "markdown",
   "metadata": {}
  },
  {
   "cell_type": "code",
   "execution_count": null,
   "metadata": {},
   "outputs": [],
   "source": [
    "# Write your code here"
   ]
  }
 ],
 "metadata": {
  "language_info": {
   "codemirror_mode": {
    "name": "ipython",
    "version": 3
   },
   "file_extension": ".py",
   "mimetype": "text/x-python",
   "name": "python",
   "nbconvert_exporter": "python",
   "pygments_lexer": "ipython3",
   "version": "3.8.5-final"
  },
  "orig_nbformat": 2,
  "kernelspec": {
   "name": "python3",
   "display_name": "Python 3",
   "language": "python"
  }
 },
 "nbformat": 4,
 "nbformat_minor": 2
}