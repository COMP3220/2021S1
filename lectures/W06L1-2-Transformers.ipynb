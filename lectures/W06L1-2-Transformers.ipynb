{
  "cells": [
    {
      "cell_type": "markdown",
      "metadata": {
        "id": "jxvSWoOH2z-f"
      },
      "source": [
        "## Huggingface's transformers library\n",
        "\n",
        "Parts of this code based on https://huggingface.co/transformers/quickstart.html and https://github.com/strongio/keras-bert/blob/master/keras-bert.ipynb"
      ]
    },
    {
      "cell_type": "markdown",
      "metadata": {
        "id": "ae4dpp6s2z--"
      },
      "source": [
        "Huggingface's `transformers` library is a very popular library that contains some of the latest complex architectures based on the Transformer. This library is used by an increasing number of developers and researchers to produce state-of-the-art results in multiple tasks. In this notebook, we will what is arguably the most popular architecture, BERT, for the task of the classification of movie reviews (yes, this task again)."
      ]
    },
    {
      "cell_type": "code",
      "metadata": {
        "colab": {
          "base_uri": "https://localhost:8080/"
        },
        "id": "nVa3t-hS2z_C",
        "outputId": "85ca4dfc-c2fa-48af-d5fd-54239fd0f537"
      },
      "source": [
        "import tensorflow as tf\n",
        "tf.config.experimental.list_physical_devices()"
      ],
      "execution_count": 1,
      "outputs": [
        {
          "output_type": "execute_result",
          "data": {
            "text/plain": [
              "[PhysicalDevice(name='/physical_device:CPU:0', device_type='CPU'),\n",
              " PhysicalDevice(name='/physical_device:GPU:0', device_type='GPU')]"
            ]
          },
          "metadata": {
            "tags": []
          },
          "execution_count": 1
        }
      ]
    },
    {
      "cell_type": "code",
      "metadata": {
        "id": "4luWnRMG2z_O"
      },
      "source": [
        "from tensorflow.compat.v1 import ConfigProto\n",
        "from tensorflow.compat.v1 import InteractiveSession\n",
        "\n",
        "config = ConfigProto()\n",
        "config.gpu_options.allow_growth = True\n",
        "session = InteractiveSession(config=config)"
      ],
      "execution_count": 2,
      "outputs": []
    },
    {
      "cell_type": "code",
      "metadata": {
        "colab": {
          "base_uri": "https://localhost:8080/"
        },
        "id": "eGeKcwRG3MCW",
        "outputId": "ab974808-2665-4ef8-a34e-0ec10d35c711"
      },
      "source": [
        "# Uncomment this cell if you need to install transformers for google colab\n",
        "!pip install transformers"
      ],
      "execution_count": 3,
      "outputs": [
        {
          "output_type": "stream",
          "text": [
            "Collecting transformers\n",
            "\u001b[?25l  Downloading https://files.pythonhosted.org/packages/ed/d5/f4157a376b8a79489a76ce6cfe147f4f3be1e029b7144fa7b8432e8acb26/transformers-4.4.2-py3-none-any.whl (2.0MB)\n",
            "\u001b[K     |████████████████████████████████| 2.0MB 16.6MB/s \n",
            "\u001b[?25hRequirement already satisfied: importlib-metadata; python_version < \"3.8\" in /usr/local/lib/python3.7/dist-packages (from transformers) (3.7.2)\n",
            "Requirement already satisfied: numpy>=1.17 in /usr/local/lib/python3.7/dist-packages (from transformers) (1.19.5)\n",
            "Requirement already satisfied: regex!=2019.12.17 in /usr/local/lib/python3.7/dist-packages (from transformers) (2019.12.20)\n",
            "Collecting sacremoses\n",
            "\u001b[?25l  Downloading https://files.pythonhosted.org/packages/7d/34/09d19aff26edcc8eb2a01bed8e98f13a1537005d31e95233fd48216eed10/sacremoses-0.0.43.tar.gz (883kB)\n",
            "\u001b[K     |████████████████████████████████| 890kB 51.2MB/s \n",
            "\u001b[?25hRequirement already satisfied: filelock in /usr/local/lib/python3.7/dist-packages (from transformers) (3.0.12)\n",
            "Requirement already satisfied: tqdm>=4.27 in /usr/local/lib/python3.7/dist-packages (from transformers) (4.41.1)\n",
            "Requirement already satisfied: packaging in /usr/local/lib/python3.7/dist-packages (from transformers) (20.9)\n",
            "Collecting tokenizers<0.11,>=0.10.1\n",
            "\u001b[?25l  Downloading https://files.pythonhosted.org/packages/71/23/2ddc317b2121117bf34dd00f5b0de194158f2a44ee2bf5e47c7166878a97/tokenizers-0.10.1-cp37-cp37m-manylinux2010_x86_64.whl (3.2MB)\n",
            "\u001b[K     |████████████████████████████████| 3.2MB 47.0MB/s \n",
            "\u001b[?25hRequirement already satisfied: requests in /usr/local/lib/python3.7/dist-packages (from transformers) (2.23.0)\n",
            "Requirement already satisfied: zipp>=0.5 in /usr/local/lib/python3.7/dist-packages (from importlib-metadata; python_version < \"3.8\"->transformers) (3.4.1)\n",
            "Requirement already satisfied: typing-extensions>=3.6.4; python_version < \"3.8\" in /usr/local/lib/python3.7/dist-packages (from importlib-metadata; python_version < \"3.8\"->transformers) (3.7.4.3)\n",
            "Requirement already satisfied: six in /usr/local/lib/python3.7/dist-packages (from sacremoses->transformers) (1.15.0)\n",
            "Requirement already satisfied: click in /usr/local/lib/python3.7/dist-packages (from sacremoses->transformers) (7.1.2)\n",
            "Requirement already satisfied: joblib in /usr/local/lib/python3.7/dist-packages (from sacremoses->transformers) (1.0.1)\n",
            "Requirement already satisfied: pyparsing>=2.0.2 in /usr/local/lib/python3.7/dist-packages (from packaging->transformers) (2.4.7)\n",
            "Requirement already satisfied: chardet<4,>=3.0.2 in /usr/local/lib/python3.7/dist-packages (from requests->transformers) (3.0.4)\n",
            "Requirement already satisfied: urllib3!=1.25.0,!=1.25.1,<1.26,>=1.21.1 in /usr/local/lib/python3.7/dist-packages (from requests->transformers) (1.24.3)\n",
            "Requirement already satisfied: idna<3,>=2.5 in /usr/local/lib/python3.7/dist-packages (from requests->transformers) (2.10)\n",
            "Requirement already satisfied: certifi>=2017.4.17 in /usr/local/lib/python3.7/dist-packages (from requests->transformers) (2020.12.5)\n",
            "Building wheels for collected packages: sacremoses\n",
            "  Building wheel for sacremoses (setup.py) ... \u001b[?25l\u001b[?25hdone\n",
            "  Created wheel for sacremoses: filename=sacremoses-0.0.43-cp37-none-any.whl size=893262 sha256=106fb5e0d3bd18a72fe847f857b3c3813622ea854094358216d185a6cb370d1f\n",
            "  Stored in directory: /root/.cache/pip/wheels/29/3c/fd/7ce5c3f0666dab31a50123635e6fb5e19ceb42ce38d4e58f45\n",
            "Successfully built sacremoses\n",
            "Installing collected packages: sacremoses, tokenizers, transformers\n",
            "Successfully installed sacremoses-0.0.43 tokenizers-0.10.1 transformers-4.4.2\n"
          ],
          "name": "stdout"
        }
      ]
    },
    {
      "cell_type": "markdown",
      "metadata": {
        "id": "Z90jwNbr2z_S"
      },
      "source": [
        "If we are going to use the pre-trained weights provided by `transformers`, we need to make sure that we use the same tokenizer. The following code illustrates how to use the tokenizer bundled with the BERT model. The first thing we need to do is load the tokenizer from the pre-trained model."
      ]
    },
    {
      "cell_type": "code",
      "metadata": {
        "id": "YzuBwEn32z_U"
      },
      "source": [
        "from transformers import BertTokenizer, TFBertModel"
      ],
      "execution_count": 4,
      "outputs": []
    },
    {
      "cell_type": "code",
      "metadata": {
        "colab": {
          "base_uri": "https://localhost:8080/",
          "height": 165,
          "referenced_widgets": [
            "bbb64ec979d24a0b8a431d216be162f3",
            "917231f0fde040f6ad42902146bfaed3",
            "25e24bb08d084137b1fac517b67288c1",
            "049074e8a5f143198438d1b3bf55cf5a",
            "f4e07ecd5f3c470a987a2ac27faee3ae",
            "cb4930034f7241adbb7c7e420c71284e",
            "7595c2365790475e8561ea2a5e54928f",
            "0c495d2aaf124255b6ec543dca0c5786",
            "ad9f2c069dfe4dbfa4e9c986fead962f",
            "731ba630c0c34a6483c925750fde5df4",
            "3397c454d4604b5cabf09895d31146b9",
            "a5f6cb38714640a089e21fda73dfc11e",
            "bf5661784e7f4c0cb9843876f038cb9e",
            "82116c443e9c48e3b2f249ad97c44e51",
            "c40974faa8dc47a190d3aa5418acd56f",
            "370270d8bc2244b880d7ba4083c98c07",
            "760d1cffd1144c0c97c008508aaf1d9a",
            "470af15dc8b6429e8d62cb13899920d5",
            "1b5dd2213d18496eb9144ea28c78f884",
            "ce3460d9936646b58fea779e0c9ed893",
            "5df1217c64e241588c60c3de42372f76",
            "1deadcbfae4f4b8b941ef93c54500392",
            "764aa27e87bd4c50b47e893c6842ce14",
            "f3855d88261a4e608cc87e11604c5938"
          ]
        },
        "id": "wVGF1VL02z_X",
        "outputId": "3652b19f-25e5-4207-ef6b-0ad06e7599f7"
      },
      "source": [
        "# Load pre-trained model tokenizer (vocabulary)\n",
        "tokenizer = BertTokenizer.from_pretrained('bert-base-uncased')"
      ],
      "execution_count": 5,
      "outputs": [
        {
          "output_type": "display_data",
          "data": {
            "application/vnd.jupyter.widget-view+json": {
              "model_id": "bbb64ec979d24a0b8a431d216be162f3",
              "version_minor": 0,
              "version_major": 2
            },
            "text/plain": [
              "HBox(children=(FloatProgress(value=0.0, description='Downloading', max=231508.0, style=ProgressStyle(descripti…"
            ]
          },
          "metadata": {
            "tags": []
          }
        },
        {
          "output_type": "stream",
          "text": [
            "\n"
          ],
          "name": "stdout"
        },
        {
          "output_type": "display_data",
          "data": {
            "application/vnd.jupyter.widget-view+json": {
              "model_id": "ad9f2c069dfe4dbfa4e9c986fead962f",
              "version_minor": 0,
              "version_major": 2
            },
            "text/plain": [
              "HBox(children=(FloatProgress(value=0.0, description='Downloading', max=28.0, style=ProgressStyle(description_w…"
            ]
          },
          "metadata": {
            "tags": []
          }
        },
        {
          "output_type": "stream",
          "text": [
            "\n"
          ],
          "name": "stdout"
        },
        {
          "output_type": "display_data",
          "data": {
            "application/vnd.jupyter.widget-view+json": {
              "model_id": "760d1cffd1144c0c97c008508aaf1d9a",
              "version_minor": 0,
              "version_major": 2
            },
            "text/plain": [
              "HBox(children=(FloatProgress(value=0.0, description='Downloading', max=466062.0, style=ProgressStyle(descripti…"
            ]
          },
          "metadata": {
            "tags": []
          }
        },
        {
          "output_type": "stream",
          "text": [
            "\n"
          ],
          "name": "stdout"
        }
      ]
    },
    {
      "cell_type": "markdown",
      "metadata": {
        "id": "hJ73ad1O2z_Y"
      },
      "source": [
        "The `encode` will return the word indices. There are several special indices:\n",
        "\n",
        "* 101 is used to encode the special token `[CLS]`. This token indicates the beginning of the string.\n",
        "* 101 is used to encode the sentence separator `[SEP]`.\n",
        "\n",
        "You will observe that the number of tokens does not correspond with the number of words. This is because BERT's tokeniser will split long words into shorter pieces of text. This is BERT's approach to address the problem of unknown words. By splitting long words into multiple tokens, we are less likely to find unknown words."
      ]
    },
    {
      "cell_type": "code",
      "metadata": {
        "colab": {
          "base_uri": "https://localhost:8080/"
        },
        "id": "UQefcXMG2z_a",
        "outputId": "7d0a4dd2-2515-4d89-ee94-8dd2e987727d"
      },
      "source": [
        "text = \"[CLS] Who was Jim Henson ? [SEP] Jim Henson was a puppeteer [SEP]\"\n",
        "tokens = tokenizer.encode(text, add_special_tokens=False)\n",
        "tokens"
      ],
      "execution_count": 6,
      "outputs": [
        {
          "output_type": "execute_result",
          "data": {
            "text/plain": [
              "[101,\n",
              " 2040,\n",
              " 2001,\n",
              " 3958,\n",
              " 27227,\n",
              " 1029,\n",
              " 102,\n",
              " 3958,\n",
              " 27227,\n",
              " 2001,\n",
              " 1037,\n",
              " 13997,\n",
              " 11510,\n",
              " 102]"
            ]
          },
          "metadata": {
            "tags": []
          },
          "execution_count": 6
        }
      ]
    },
    {
      "cell_type": "code",
      "metadata": {
        "colab": {
          "base_uri": "https://localhost:8080/",
          "height": 35
        },
        "id": "n6FlX8pt2z_c",
        "outputId": "f67ba85c-4ae4-48dd-a99f-80b4fb256490"
      },
      "source": [
        "tokenizer.decode(tokens)"
      ],
      "execution_count": 7,
      "outputs": [
        {
          "output_type": "execute_result",
          "data": {
            "application/vnd.google.colaboratory.intrinsic+json": {
              "type": "string"
            },
            "text/plain": [
              "'[CLS] who was jim henson? [SEP] jim henson was a puppeteer [SEP]'"
            ]
          },
          "metadata": {
            "tags": []
          },
          "execution_count": 7
        }
      ]
    },
    {
      "cell_type": "markdown",
      "metadata": {
        "id": "usRXoILi2z_f"
      },
      "source": [
        "The decoded version has converted all uppercase characters to lowercase. This is because we have used the pre-trained model \"bert-case-uncased\"."
      ]
    },
    {
      "cell_type": "markdown",
      "metadata": {
        "id": "s0W1fl4U2z_i"
      },
      "source": [
        "The process of tokenising can also be done through two steps: first find the words, then find the word indices. The code below shows that the word \"puppeteer\" has been split into two tokens: \"puppet\" and \"##eer\"."
      ]
    },
    {
      "cell_type": "code",
      "metadata": {
        "colab": {
          "base_uri": "https://localhost:8080/"
        },
        "id": "ItwheutA2z_i",
        "outputId": "5ed7d1c4-7db6-4344-dec6-f50bad087d71"
      },
      "source": [
        "# Tokenize input\n",
        "text = \"[CLS] Who was Jim Henson ? [SEP] Jim Henson was a puppeteer [SEP]\"\n",
        "tokenized_text = tokenizer.tokenize(text)\n",
        "tokenized_text"
      ],
      "execution_count": 8,
      "outputs": [
        {
          "output_type": "execute_result",
          "data": {
            "text/plain": [
              "['[CLS]',\n",
              " 'who',\n",
              " 'was',\n",
              " 'jim',\n",
              " 'henson',\n",
              " '?',\n",
              " '[SEP]',\n",
              " 'jim',\n",
              " 'henson',\n",
              " 'was',\n",
              " 'a',\n",
              " 'puppet',\n",
              " '##eer',\n",
              " '[SEP]']"
            ]
          },
          "metadata": {
            "tags": []
          },
          "execution_count": 8
        }
      ]
    },
    {
      "cell_type": "code",
      "metadata": {
        "colab": {
          "base_uri": "https://localhost:8080/"
        },
        "id": "MkyvAx5L2z_k",
        "outputId": "fa3490ed-d942-4fe6-d316-6254d6bb5f52"
      },
      "source": [
        "# Convert token to vocabulary indices\n",
        "indexed_tokens = tokenizer.convert_tokens_to_ids(tokenized_text)\n",
        "indexed_tokens"
      ],
      "execution_count": 9,
      "outputs": [
        {
          "output_type": "execute_result",
          "data": {
            "text/plain": [
              "[101,\n",
              " 2040,\n",
              " 2001,\n",
              " 3958,\n",
              " 27227,\n",
              " 1029,\n",
              " 102,\n",
              " 3958,\n",
              " 27227,\n",
              " 2001,\n",
              " 1037,\n",
              " 13997,\n",
              " 11510,\n",
              " 102]"
            ]
          },
          "metadata": {
            "tags": []
          },
          "execution_count": 9
        }
      ]
    },
    {
      "cell_type": "markdown",
      "metadata": {
        "id": "E6Tyw_QW2z_k"
      },
      "source": [
        "# IMDB data preparation\n",
        "From https://github.com/strongio/keras-bert/blob/master/keras-bert.ipynb\n",
        "\n",
        "We need to tokenise the IMDB data (we cannot use the word indices given by Keras). The following code downloads the IMDB data and loads it as a `pandas` data frame."
      ]
    },
    {
      "cell_type": "code",
      "metadata": {
        "id": "2t7OKJjc2z_l"
      },
      "source": [
        "import os\n",
        "import re\n",
        "import pandas as pd\n",
        "# Load all files from a directory in a DataFrame.\n",
        "def load_directory_data(directory):\n",
        "  data = {}\n",
        "  data[\"sentence\"] = []\n",
        "  data[\"sentiment\"] = []\n",
        "  for file_path in os.listdir(directory):\n",
        "    with tf.io.gfile.GFile(os.path.join(directory, file_path), \"r\") as f:\n",
        "      data[\"sentence\"].append(f.read())\n",
        "      data[\"sentiment\"].append(re.match(\"\\d+_(\\d+)\\.txt\", file_path).group(1))\n",
        "  return pd.DataFrame.from_dict(data)\n",
        "\n",
        "# Merge positive and negative examples, add a polarity column and shuffle.\n",
        "def load_dataset(directory):\n",
        "  pos_df = load_directory_data(os.path.join(directory, \"pos\"))\n",
        "  neg_df = load_directory_data(os.path.join(directory, \"neg\"))\n",
        "  pos_df[\"polarity\"] = 1\n",
        "  neg_df[\"polarity\"] = 0\n",
        "  return pd.concat([pos_df, neg_df]).sample(frac=1).reset_index(drop=True)\n",
        "\n",
        "# Download and process the dataset files.\n",
        "def download_and_load_datasets(force_download=False):\n",
        "  dataset = tf.keras.utils.get_file(\n",
        "      fname=\"aclImdb.tar.gz\", \n",
        "      origin=\"http://ai.stanford.edu/~amaas/data/sentiment/aclImdb_v1.tar.gz\", \n",
        "      extract=True)\n",
        "\n",
        "  train_df = load_dataset(os.path.join(os.path.dirname(dataset), \n",
        "                                       \"aclImdb\", \"train\"))\n",
        "  test_df = load_dataset(os.path.join(os.path.dirname(dataset), \n",
        "                                      \"aclImdb\", \"test\"))\n",
        "\n",
        "  return train_df, test_df"
      ],
      "execution_count": 10,
      "outputs": []
    },
    {
      "cell_type": "code",
      "metadata": {
        "colab": {
          "base_uri": "https://localhost:8080/",
          "height": 241
        },
        "id": "nYXc_WzO2z_l",
        "outputId": "a5a3fe23-67ed-4a85-a016-dbf154335a74"
      },
      "source": [
        "train_df, test_df = download_and_load_datasets()\n",
        "train_df.head()"
      ],
      "execution_count": 11,
      "outputs": [
        {
          "output_type": "stream",
          "text": [
            "Downloading data from http://ai.stanford.edu/~amaas/data/sentiment/aclImdb_v1.tar.gz\n",
            "84131840/84125825 [==============================] - 4s 0us/step\n"
          ],
          "name": "stdout"
        },
        {
          "output_type": "execute_result",
          "data": {
            "text/html": [
              "<div>\n",
              "<style scoped>\n",
              "    .dataframe tbody tr th:only-of-type {\n",
              "        vertical-align: middle;\n",
              "    }\n",
              "\n",
              "    .dataframe tbody tr th {\n",
              "        vertical-align: top;\n",
              "    }\n",
              "\n",
              "    .dataframe thead th {\n",
              "        text-align: right;\n",
              "    }\n",
              "</style>\n",
              "<table border=\"1\" class=\"dataframe\">\n",
              "  <thead>\n",
              "    <tr style=\"text-align: right;\">\n",
              "      <th></th>\n",
              "      <th>sentence</th>\n",
              "      <th>sentiment</th>\n",
              "      <th>polarity</th>\n",
              "    </tr>\n",
              "  </thead>\n",
              "  <tbody>\n",
              "    <tr>\n",
              "      <th>0</th>\n",
              "      <td>Unless you are between the ages of 10 and 14 (...</td>\n",
              "      <td>1</td>\n",
              "      <td>0</td>\n",
              "    </tr>\n",
              "    <tr>\n",
              "      <th>1</th>\n",
              "      <td>Wow You guys are way too nice!!!Corny,Corny,Co...</td>\n",
              "      <td>4</td>\n",
              "      <td>0</td>\n",
              "    </tr>\n",
              "    <tr>\n",
              "      <th>2</th>\n",
              "      <td>OK. I think the TV show is kind of cute and it...</td>\n",
              "      <td>2</td>\n",
              "      <td>0</td>\n",
              "    </tr>\n",
              "    <tr>\n",
              "      <th>3</th>\n",
              "      <td>If you're in the mood for some dopey light ent...</td>\n",
              "      <td>4</td>\n",
              "      <td>0</td>\n",
              "    </tr>\n",
              "    <tr>\n",
              "      <th>4</th>\n",
              "      <td>Before this made for TV movie began, I had rel...</td>\n",
              "      <td>4</td>\n",
              "      <td>0</td>\n",
              "    </tr>\n",
              "  </tbody>\n",
              "</table>\n",
              "</div>"
            ],
            "text/plain": [
              "                                            sentence sentiment  polarity\n",
              "0  Unless you are between the ages of 10 and 14 (...         1         0\n",
              "1  Wow You guys are way too nice!!!Corny,Corny,Co...         4         0\n",
              "2  OK. I think the TV show is kind of cute and it...         2         0\n",
              "3  If you're in the mood for some dopey light ent...         4         0\n",
              "4  Before this made for TV movie began, I had rel...         4         0"
            ]
          },
          "metadata": {
            "tags": []
          },
          "execution_count": 11
        }
      ]
    },
    {
      "cell_type": "markdown",
      "metadata": {
        "id": "-PnSeB-_2z_n"
      },
      "source": [
        "We now load the text and the labels. We use the \"polarity\" column for the labels."
      ]
    },
    {
      "cell_type": "code",
      "metadata": {
        "id": "n5Yt1Dum2z_o"
      },
      "source": [
        "import numpy as np\n",
        "# Create datasets (Only take up to max_seq_length words for memory)\n",
        "max_seq_length = 500\n",
        "train_text = train_df['sentence'].tolist()\n",
        "train_text = [' '.join(t.split()[0:max_seq_length]) for t in train_text]\n",
        "#train_text = np.array(train_text, dtype=object)[:, np.newaxis]\n",
        "train_label = train_df['polarity'].tolist()\n",
        "\n",
        "test_text = test_df['sentence'].tolist()\n",
        "test_text = [' '.join(t.split()[0:max_seq_length]) for t in test_text]\n",
        "#test_text = np.array(test_text, dtype=object)[:, np.newaxis]\n",
        "test_label = test_df['polarity'].tolist()\n"
      ],
      "execution_count": 12,
      "outputs": []
    },
    {
      "cell_type": "code",
      "metadata": {
        "colab": {
          "base_uri": "https://localhost:8080/"
        },
        "id": "6zU1Pha72z_o",
        "outputId": "9efcc13f-c602-42c9-b48a-7e128649f188"
      },
      "source": [
        "train_text[:3]"
      ],
      "execution_count": 13,
      "outputs": [
        {
          "output_type": "execute_result",
          "data": {
            "text/plain": [
              "['Unless you are between the ages of 10 and 14 (except for the R rating), there are very few things to like here. One or two lines from Kenan Thompson, David Koechner (we really should see him more) and Sam Jackson are humorous and Julianna Margulies is as good as she can be considering her surroundings, but sadly, that\\'s it. Poor plot. Poor acting. Worse writing and delivery. The special effects are dismal. As much as the entire situation is an odd and awful joke, the significant individual embedded situations are all equally terrible. If we consider the action portions, well there are unbelievable action sequences in some films that make you giddy and there are some that make you groan. This movie only contains the latter kind. This leaves little left. I\\'m so glad I did not pay for this.<br /><br />Despite any hype, I can read and think, so as I sat down to watch, I did not expect anything good. I had no expectations, but was somewhat worried going in. Yet, like a train wreck, one cannot merely look away. And even with no expectations, I was let down. Bad. Not even \\'so bad, it\\'s good\\' material. I\\'m _very_ tolerant of bad movies, but this makes \"Six String Samurai\" (which I liked) Oscar worthy.<br /><br />No, this piece of over CGI\\'d rubbish is in the same company as Battlefield Earth, Little Man and Gigli. How this is currently rated a 7.2 completely mystifies me. Brainwashing or somehow stacking the voting system is all that I can think of as answers.<br /><br />I could go on and on but suffice to say that tonight, I witnessed a train wreck. I need to go wash my eyes. 1 of 10',\n",
              " 'Wow You guys are way too nice!!!Corny,Corny,Corny That is how I feel about that film.It started well with a good idea , A guy (Edward Asner) escape from Jail dressed as Santa,a bunch of kids find him and believes his the real Santa so the Fake Santa enlist the children to help him find a bag of stolen money.the film is like a Christmas version of \"Whistle down the wind\". The movie start well but gradually it becomes Cheesier and Cheesier to the point that at the end it becomes ridiculous and you just cant take this film seriously. For example you get the Scrooge type character called Sumner (Rene Auberjonois) who\\'s a total Douchebag who treat his young son like a pile a rubbish ,he treat his son so bad that he don\\'t even buy him decent clothes,the poor kid wears Jeans with Holes in it! but a 45 second scene with Fake Santa visiting Sumner and by the end of the film you get the guy all happy singing Christmas Carol and giving his neglected son a hug...yep that is how Corny it is... I\\'m all for feel good movie especially during Christmas and I am a big fan of seasonal TV movie but this one is way too over the top for me,it is a shame because it started well but the second half of the movie is trowing a supernatural element to the film that just don\\'t match with the rest of it. It\\'s not totally bad,there are some solid acting , especially from the children but there are plenty of better Christmas film around.',\n",
              " \"OK. I think the TV show is kind of cute and it always has some kind of lesson involved. So, when my kids decided they wanted to see this movie, I decided to tag along. I wish I'd stayed home and watched the TV show instead.<br /><br />The fact that the humor is silly and unoriginal is the least of the problems with this movie. The plot is next to non-existant, the characters seem to exist in a vacuum, and, worst of all, Gadget does not carry any lesson whatsoever. It appears that Disney took all of the things that make Inspector Gadget work on TV and tossed them all. To be fair, my younger child (8 years old) liked the movie but the older one (10 years old) came away thinking it silly (he was too old for the youth humor but too young for any of the adult humor).<br /><br />Generally, I like Disney films but this one misses by a mile. It is OK for a very narrow age band (say 7 to 9) but a must miss for everybody else.\"]"
            ]
          },
          "metadata": {
            "tags": []
          },
          "execution_count": 13
        }
      ]
    },
    {
      "cell_type": "code",
      "metadata": {
        "colab": {
          "base_uri": "https://localhost:8080/"
        },
        "id": "kvMHSn7t2z_p",
        "outputId": "0a746377-7e65-42ae-dc2d-af6d2e35fa06"
      },
      "source": [
        "train_label[:3]"
      ],
      "execution_count": 14,
      "outputs": [
        {
          "output_type": "execute_result",
          "data": {
            "text/plain": [
              "[0, 0, 0]"
            ]
          },
          "metadata": {
            "tags": []
          },
          "execution_count": 14
        }
      ]
    },
    {
      "cell_type": "code",
      "metadata": {
        "id": "bznZsOaz2z_q"
      },
      "source": [
        "train_indices = [tokenizer.encode(t, add_special_tokens=True, max_length=500, padding='max_length', truncation=True) for t in train_text]"
      ],
      "execution_count": 15,
      "outputs": []
    },
    {
      "cell_type": "code",
      "metadata": {
        "id": "xowhZEM42z_r"
      },
      "source": [
        "test_indices = [tokenizer.encode(t, add_special_tokens=True, max_length=500, padding='max_length', truncation=True) for t in test_text]"
      ],
      "execution_count": 16,
      "outputs": []
    },
    {
      "cell_type": "markdown",
      "metadata": {
        "id": "k_JvkINM2z_r"
      },
      "source": [
        "If executing the above two lines (which have been commented out) is too slow and your computer has multiple CPUs, you can use the following parallel version that uses Python's `multiprocessing` library instead. Uncomment and execute the following cells."
      ]
    },
    {
      "cell_type": "code",
      "metadata": {
        "id": "gUNxh4ze2z_s"
      },
      "source": [
        "#from multiprocessing import Pool\n",
        "#from functools import partial\n",
        "#def text_to_indices(data, limit=500):\n",
        "#    \"Convert the text to indices and pad-truncate to the maximum number of words\"\n",
        "#    with Pool() as pool:\n",
        "#        return pool.map(partial(tokenizer.encode,\n",
        "#                                      add_special_tokens=True, max_length=limit, padding='max_length', truncation=True),\n",
        "#                         data)"
      ],
      "execution_count": 17,
      "outputs": []
    },
    {
      "cell_type": "code",
      "metadata": {
        "id": "izGeNLxZ2z_s"
      },
      "source": [
        "#text_to_indices([\"this is sentence 1\", \"this is sentence 2\"], limit=10)"
      ],
      "execution_count": 18,
      "outputs": []
    },
    {
      "cell_type": "code",
      "metadata": {
        "id": "0qT5uEb22z_s"
      },
      "source": [
        "#print(\"Obtaining indices of train set\")\n",
        "#train_indices = text_to_indices(train_text)\n",
        "#print(\"Obtaining indices of test set\")\n",
        "#test_indices = text_to_indices(test_text)"
      ],
      "execution_count": 19,
      "outputs": []
    },
    {
      "cell_type": "markdown",
      "metadata": {
        "id": "1AOQe3WE2z_t"
      },
      "source": [
        "# Results with BERT\n",
        "Let's now design a simple architecture that uses BERT for binary classification. Our approach will not modify the BERT weights, hence we use the option `trainable=False`."
      ]
    },
    {
      "cell_type": "code",
      "metadata": {
        "colab": {
          "base_uri": "https://localhost:8080/",
          "height": 223,
          "referenced_widgets": [
            "2e5d2a0ce2114e40ad0b49b850a173eb",
            "a958a4395f954e788db76713068cd520",
            "de3a66241e474630a29b91e9655a506f",
            "6a4277010b3f4e05b928193a2962f459",
            "3d574cf02dc24805a23ce5336e8892f3",
            "cb271c8b689146e8a998fc0a1b36ae49",
            "cfc7917764cf4b80b9e062eb05dd544c",
            "84d5d929233f45bfba2d9ec27a460fa0",
            "cf52d15ab00646e5b379e9777162d13e",
            "98d85458bcdd4e04958c4b3a287c3c0a",
            "e8481f7a6a9d42fdb90a634dd392133b",
            "c71ed66580cc473b99e37871f2b7f10f",
            "43e2d0de41fc495086d125dbb3492915",
            "76fc3ea81b524f86ba9de5ba0e45a594",
            "e6997a11af27448f935e6e8867594788",
            "c28c85851c6c4cbb9a391bf93e395ad8"
          ]
        },
        "id": "BkJMCChP2z_u",
        "outputId": "5734a61c-922f-49c3-c959-712c902c4e22"
      },
      "source": [
        "# Load pre-trained model (weights)\n",
        "bert = TFBertModel.from_pretrained('bert-base-uncased', trainable=False)"
      ],
      "execution_count": 20,
      "outputs": [
        {
          "output_type": "display_data",
          "data": {
            "application/vnd.jupyter.widget-view+json": {
              "model_id": "2e5d2a0ce2114e40ad0b49b850a173eb",
              "version_minor": 0,
              "version_major": 2
            },
            "text/plain": [
              "HBox(children=(FloatProgress(value=0.0, description='Downloading', max=433.0, style=ProgressStyle(description_…"
            ]
          },
          "metadata": {
            "tags": []
          }
        },
        {
          "output_type": "stream",
          "text": [
            "\n"
          ],
          "name": "stdout"
        },
        {
          "output_type": "display_data",
          "data": {
            "application/vnd.jupyter.widget-view+json": {
              "model_id": "cf52d15ab00646e5b379e9777162d13e",
              "version_minor": 0,
              "version_major": 2
            },
            "text/plain": [
              "HBox(children=(FloatProgress(value=0.0, description='Downloading', max=536063208.0, style=ProgressStyle(descri…"
            ]
          },
          "metadata": {
            "tags": []
          }
        },
        {
          "output_type": "stream",
          "text": [
            "\n"
          ],
          "name": "stdout"
        },
        {
          "output_type": "stream",
          "text": [
            "Some layers from the model checkpoint at bert-base-uncased were not used when initializing TFBertModel: ['mlm___cls', 'nsp___cls']\n",
            "- This IS expected if you are initializing TFBertModel from the checkpoint of a model trained on another task or with another architecture (e.g. initializing a BertForSequenceClassification model from a BertForPreTraining model).\n",
            "- This IS NOT expected if you are initializing TFBertModel from the checkpoint of a model that you expect to be exactly identical (initializing a BertForSequenceClassification model from a BertForSequenceClassification model).\n",
            "All the layers of TFBertModel were initialized from the model checkpoint at bert-base-uncased.\n",
            "If your task is similar to the task the model of the checkpoint was trained on, you can already use TFBertModel for predictions without further training.\n"
          ],
          "name": "stderr"
        }
      ]
    },
    {
      "cell_type": "code",
      "metadata": {
        "id": "oy5wZeMl2z_v"
      },
      "source": [
        "from tensorflow.keras.models import Model\n",
        "from tensorflow.keras.layers import Dense, Input, GlobalAveragePooling1D"
      ],
      "execution_count": 21,
      "outputs": []
    },
    {
      "cell_type": "markdown",
      "metadata": {
        "id": "VL9HLsJMpuMx"
      },
      "source": [
        "Below is the code that implements the model. Given that the BERT layer returns multiple outputs, we must use Keras' [functional API](https://keras.io/guides/functional_api/) where we use functions to define each layer. Each function takes as a parameter the output of the previous layer in the sequence of the model. \n",
        "\n",
        "Look, in particular, at the line `last_hidden_states = bert(inputs)[0]`. This line is using our definition of BERT, to which we apply the inputs. The layer returns a tuple of values, and we use the first element only (element with index 0). This element contains the information that we want, which is the list of BERT embeddings of each token.\n",
        "\n",
        "Then, the final model is defined by defining what are the inputs and the outputs. In the code below, this is done in the line `bert_model = Model(inputs, outputs)`."
      ]
    },
    {
      "cell_type": "code",
      "metadata": {
        "colab": {
          "base_uri": "https://localhost:8080/"
        },
        "id": "SLRrnDxK2z_v",
        "outputId": "635bd9c2-35e9-4da4-e946-d3b367dd95c4"
      },
      "source": [
        "# From https://huggingface.co/transformers/_modules/transformers/modeling_tf_bert.html#TFBertModel\n",
        "#inputs = tf.constant(indexed_tokens)[None, :] # Batch  size 1\n",
        "inputs = Input(shape=(500,), dtype=tf.int32)\n",
        "last_hidden_states = bert(inputs)[0]  # The last hidden-state is the first element of the output tuple\n",
        "average_pooling = GlobalAveragePooling1D()(last_hidden_states) # Average pooling of last hidden states as recommended\n",
        "outputs = Dense(1, activation=tf.nn.sigmoid)(average_pooling)\n",
        "bert_model = Model(inputs, outputs)\n",
        "bert_model.summary()"
      ],
      "execution_count": 22,
      "outputs": [
        {
          "output_type": "stream",
          "text": [
            "WARNING:tensorflow:The parameters `output_attentions`, `output_hidden_states` and `use_cache` cannot be updated when calling a model.They have to be set to True/False in the config object (i.e.: `config=XConfig.from_pretrained('name', output_attentions=True)`).\n",
            "WARNING:tensorflow:AutoGraph could not transform <bound method Socket.send of <zmq.sugar.socket.Socket object at 0x7fcc3c520ec0>> and will run it as-is.\n",
            "Please report this to the TensorFlow team. When filing the bug, set the verbosity to 10 (on Linux, `export AUTOGRAPH_VERBOSITY=10`) and attach the full output.\n",
            "Cause: module, class, method, function, traceback, frame, or code object was expected, got cython_function_or_method\n",
            "To silence this warning, decorate the function with @tf.autograph.experimental.do_not_convert\n",
            "WARNING: AutoGraph could not transform <bound method Socket.send of <zmq.sugar.socket.Socket object at 0x7fcc3c520ec0>> and will run it as-is.\n",
            "Please report this to the TensorFlow team. When filing the bug, set the verbosity to 10 (on Linux, `export AUTOGRAPH_VERBOSITY=10`) and attach the full output.\n",
            "Cause: module, class, method, function, traceback, frame, or code object was expected, got cython_function_or_method\n",
            "To silence this warning, decorate the function with @tf.autograph.experimental.do_not_convert\n",
            "WARNING:tensorflow:AutoGraph could not transform <function wrap at 0x7fcc57dd2c20> and will run it as-is.\n",
            "Cause: while/else statement not yet supported\n",
            "To silence this warning, decorate the function with @tf.autograph.experimental.do_not_convert\n",
            "WARNING: AutoGraph could not transform <function wrap at 0x7fcc57dd2c20> and will run it as-is.\n",
            "Cause: while/else statement not yet supported\n",
            "To silence this warning, decorate the function with @tf.autograph.experimental.do_not_convert\n",
            "WARNING:tensorflow:The parameter `return_dict` cannot be set in graph mode and will always be set to `True`.\n",
            "Model: \"model\"\n",
            "_________________________________________________________________\n",
            "Layer (type)                 Output Shape              Param #   \n",
            "=================================================================\n",
            "input_1 (InputLayer)         [(None, 500)]             0         \n",
            "_________________________________________________________________\n",
            "tf_bert_model (TFBertModel)  TFBaseModelOutputWithPool 109482240 \n",
            "_________________________________________________________________\n",
            "global_average_pooling1d (Gl (None, 768)               0         \n",
            "_________________________________________________________________\n",
            "dense (Dense)                (None, 1)                 769       \n",
            "=================================================================\n",
            "Total params: 109,483,009\n",
            "Trainable params: 769\n",
            "Non-trainable params: 109,482,240\n",
            "_________________________________________________________________\n"
          ],
          "name": "stdout"
        }
      ]
    },
    {
      "cell_type": "code",
      "metadata": {
        "id": "CvYFvf272z_v"
      },
      "source": [
        "bert_model.compile(optimizer='adam',\n",
        "                   loss='binary_crossentropy',\n",
        "                   metrics=['acc'])"
      ],
      "execution_count": 23,
      "outputs": []
    },
    {
      "cell_type": "code",
      "metadata": {
        "colab": {
          "base_uri": "https://localhost:8080/"
        },
        "id": "cB1nOMTI2z_w",
        "outputId": "31a86003-1be3-475d-c0d9-323fe6520457"
      },
      "source": [
        "history = bert_model.fit(np.array(train_indices), np.array(train_label),\n",
        "                    epochs=20,\n",
        "                    batch_size=128,\n",
        "                    validation_split=0.2)"
      ],
      "execution_count": 24,
      "outputs": [
        {
          "output_type": "stream",
          "text": [
            "Epoch 1/20\n",
            "WARNING:tensorflow:The parameters `output_attentions`, `output_hidden_states` and `use_cache` cannot be updated when calling a model.They have to be set to True/False in the config object (i.e.: `config=XConfig.from_pretrained('name', output_attentions=True)`).\n",
            "WARNING:tensorflow:The parameter `return_dict` cannot be set in graph mode and will always be set to `True`.\n",
            "WARNING:tensorflow:The parameters `output_attentions`, `output_hidden_states` and `use_cache` cannot be updated when calling a model.They have to be set to True/False in the config object (i.e.: `config=XConfig.from_pretrained('name', output_attentions=True)`).\n",
            "WARNING:tensorflow:The parameter `return_dict` cannot be set in graph mode and will always be set to `True`.\n",
            "157/157 [==============================] - ETA: 0s - loss: 0.6764 - acc: 0.5882WARNING:tensorflow:The parameters `output_attentions`, `output_hidden_states` and `use_cache` cannot be updated when calling a model.They have to be set to True/False in the config object (i.e.: `config=XConfig.from_pretrained('name', output_attentions=True)`).\n",
            "WARNING:tensorflow:The parameter `return_dict` cannot be set in graph mode and will always be set to `True`.\n",
            "157/157 [==============================] - 1170s 7s/step - loss: 0.6763 - acc: 0.5886 - val_loss: 0.6119 - val_acc: 0.7254\n",
            "Epoch 2/20\n",
            "157/157 [==============================] - 1156s 7s/step - loss: 0.6121 - acc: 0.7167 - val_loss: 0.5607 - val_acc: 0.7998\n",
            "Epoch 3/20\n",
            "157/157 [==============================] - 1154s 7s/step - loss: 0.5657 - acc: 0.7729 - val_loss: 0.5338 - val_acc: 0.7642\n",
            "Epoch 4/20\n",
            "157/157 [==============================] - 1155s 7s/step - loss: 0.5370 - acc: 0.7821 - val_loss: 0.5017 - val_acc: 0.8222\n",
            "Epoch 5/20\n",
            "157/157 [==============================] - 1155s 7s/step - loss: 0.5165 - acc: 0.7920 - val_loss: 0.4834 - val_acc: 0.8154\n",
            "Epoch 6/20\n",
            "157/157 [==============================] - 1157s 7s/step - loss: 0.4973 - acc: 0.8038 - val_loss: 0.4681 - val_acc: 0.8306\n",
            "Epoch 7/20\n",
            "157/157 [==============================] - 1156s 7s/step - loss: 0.4847 - acc: 0.8024 - val_loss: 0.4601 - val_acc: 0.8090\n",
            "Epoch 8/20\n",
            "157/157 [==============================] - 1151s 7s/step - loss: 0.4723 - acc: 0.8083 - val_loss: 0.4471 - val_acc: 0.8304\n",
            "Epoch 9/20\n",
            "157/157 [==============================] - 1153s 7s/step - loss: 0.4652 - acc: 0.8115 - val_loss: 0.4361 - val_acc: 0.8424\n",
            "Epoch 10/20\n",
            "157/157 [==============================] - 1154s 7s/step - loss: 0.4510 - acc: 0.8207 - val_loss: 0.4284 - val_acc: 0.8440\n",
            "Epoch 11/20\n",
            "157/157 [==============================] - 1154s 7s/step - loss: 0.4461 - acc: 0.8221 - val_loss: 0.4231 - val_acc: 0.8424\n",
            "Epoch 12/20\n",
            "157/157 [==============================] - 1155s 7s/step - loss: 0.4405 - acc: 0.8249 - val_loss: 0.4168 - val_acc: 0.8474\n",
            "Epoch 13/20\n",
            "157/157 [==============================] - 1155s 7s/step - loss: 0.4339 - acc: 0.8249 - val_loss: 0.4246 - val_acc: 0.8156\n",
            "Epoch 14/20\n",
            "157/157 [==============================] - 1158s 7s/step - loss: 0.4292 - acc: 0.8253 - val_loss: 0.4068 - val_acc: 0.8520\n",
            "Epoch 15/20\n",
            "157/157 [==============================] - 1157s 7s/step - loss: 0.4236 - acc: 0.8281 - val_loss: 0.4022 - val_acc: 0.8442\n",
            "Epoch 16/20\n",
            "157/157 [==============================] - 1155s 7s/step - loss: 0.4219 - acc: 0.8258 - val_loss: 0.3996 - val_acc: 0.8532\n",
            "Epoch 17/20\n",
            "157/157 [==============================] - 1155s 7s/step - loss: 0.4181 - acc: 0.8273 - val_loss: 0.3987 - val_acc: 0.8468\n",
            "Epoch 18/20\n",
            "157/157 [==============================] - 1156s 7s/step - loss: 0.4189 - acc: 0.8278 - val_loss: 0.3936 - val_acc: 0.8494\n",
            "Epoch 19/20\n",
            "157/157 [==============================] - 1154s 7s/step - loss: 0.4157 - acc: 0.8257 - val_loss: 0.3922 - val_acc: 0.8544\n",
            "Epoch 20/20\n",
            "157/157 [==============================] - 1154s 7s/step - loss: 0.4098 - acc: 0.8282 - val_loss: 0.3873 - val_acc: 0.8550\n"
          ],
          "name": "stdout"
        }
      ]
    },
    {
      "cell_type": "code",
      "metadata": {
        "colab": {
          "base_uri": "https://localhost:8080/",
          "height": 281
        },
        "id": "skjdA3Sd2z_w",
        "outputId": "80a5eb0f-c162-49b4-c850-20ed65e7ab4c"
      },
      "source": [
        "%matplotlib inline\n",
        "import matplotlib.pyplot as plt\n",
        "\n",
        "acc = history.history['acc']\n",
        "val_acc = history.history['val_acc']\n",
        "loss = history.history['loss']\n",
        "val_loss = history.history['val_loss']\n",
        "\n",
        "epochs = range(len(acc))\n",
        "\n",
        "plt.subplot(121)\n",
        "plt.plot(epochs, acc, 'bo', label='Training acc')\n",
        "plt.plot(epochs, val_acc, 'b', label='Validation acc')\n",
        "plt.title('Training and validation accuracy')\n",
        "plt.legend()\n",
        "\n",
        "plt.subplot(122)\n",
        "\n",
        "plt.plot(epochs, loss, 'bo', label='Training loss')\n",
        "plt.plot(epochs, val_loss, 'b', label='Validation loss')\n",
        "plt.title('Training and validation loss')\n",
        "plt.legend()\n",
        "\n",
        "plt.show()"
      ],
      "execution_count": 25,
      "outputs": [
        {
          "output_type": "display_data",
          "data": {
            "image/png": "[encoded data removed]",
            "text/plain": [
              "<Figure size 432x288 with 2 Axes>"
            ]
          },
          "metadata": {
            "tags": [],
            "needs_background": "light"
          }
        }
      ]
    },
    {
      "cell_type": "markdown",
      "metadata": {
        "id": "Bg_QmvOo2z_x"
      },
      "source": [
        "# Results with Average baseline\n",
        "For comparison, below is a simpler architecture that uses a simple embedding layer instead of BERT, as we have seen in previous notebooks. The system will process exactly the same data."
      ]
    },
    {
      "cell_type": "code",
      "metadata": {
        "id": "na9-ltLh2z_x"
      },
      "source": [
        "from tensorflow.keras.models import Model\n",
        "from tensorflow.keras.layers import Input, Dense, Embedding, GlobalAveragePooling1D"
      ],
      "execution_count": 26,
      "outputs": []
    },
    {
      "cell_type": "code",
      "metadata": {
        "colab": {
          "base_uri": "https://localhost:8080/"
        },
        "id": "1MR9qtKa2z_y",
        "outputId": "d1a3bd3d-8544-4ac2-ef0a-276c58db069e"
      },
      "source": [
        "max_features = tokenizer.vocab_size\n",
        "embeddings_size = 32\n",
        "inputs = Input(shape=(500,), dtype=tf.int32)\n",
        "embedding = Embedding(max_features, embeddings_size)(inputs)\n",
        "avg = GlobalAveragePooling1D()(embedding)\n",
        "outputs = Dense(1, activation=tf.nn.sigmoid)(avg)\n",
        "avg_model = Model(inputs, outputs)\n",
        "avg_model.summary()"
      ],
      "execution_count": 27,
      "outputs": [
        {
          "output_type": "stream",
          "text": [
            "Model: \"model_1\"\n",
            "_________________________________________________________________\n",
            "Layer (type)                 Output Shape              Param #   \n",
            "=================================================================\n",
            "input_2 (InputLayer)         [(None, 500)]             0         \n",
            "_________________________________________________________________\n",
            "embedding (Embedding)        (None, 500, 32)           976704    \n",
            "_________________________________________________________________\n",
            "global_average_pooling1d_1 ( (None, 32)                0         \n",
            "_________________________________________________________________\n",
            "dense_1 (Dense)              (None, 1)                 33        \n",
            "=================================================================\n",
            "Total params: 976,737\n",
            "Trainable params: 976,737\n",
            "Non-trainable params: 0\n",
            "_________________________________________________________________\n"
          ],
          "name": "stdout"
        }
      ]
    },
    {
      "cell_type": "code",
      "metadata": {
        "id": "3sC1b5Tb2z_y"
      },
      "source": [
        "avg_model.compile(optimizer='adam',\n",
        "                   loss='binary_crossentropy',\n",
        "                   metrics=['acc'])"
      ],
      "execution_count": 28,
      "outputs": []
    },
    {
      "cell_type": "code",
      "metadata": {
        "colab": {
          "base_uri": "https://localhost:8080/"
        },
        "id": "Y7jWD2e12z_y",
        "outputId": "aada4873-3f00-4d6b-adcb-35b66733fe00"
      },
      "source": [
        "history = avg_model.fit(np.array(train_indices), np.array(train_label),\n",
        "                    epochs=50,\n",
        "                    batch_size=128,\n",
        "                    validation_split=0.2)"
      ],
      "execution_count": 29,
      "outputs": [
        {
          "output_type": "stream",
          "text": [
            "Epoch 1/50\n",
            "157/157 [==============================] - 3s 16ms/step - loss: 0.6905 - acc: 0.5830 - val_loss: 0.6752 - val_acc: 0.6336\n",
            "Epoch 2/50\n",
            "157/157 [==============================] - 2s 15ms/step - loss: 0.6658 - acc: 0.7195 - val_loss: 0.6274 - val_acc: 0.7752\n",
            "Epoch 3/50\n",
            "157/157 [==============================] - 2s 15ms/step - loss: 0.6145 - acc: 0.7765 - val_loss: 0.5692 - val_acc: 0.8028\n",
            "Epoch 4/50\n",
            "157/157 [==============================] - 2s 16ms/step - loss: 0.5575 - acc: 0.8109 - val_loss: 0.5160 - val_acc: 0.8288\n",
            "Epoch 5/50\n",
            "157/157 [==============================] - 2s 15ms/step - loss: 0.5047 - acc: 0.8355 - val_loss: 0.4708 - val_acc: 0.8466\n",
            "Epoch 6/50\n",
            "157/157 [==============================] - 2s 15ms/step - loss: 0.4575 - acc: 0.8515 - val_loss: 0.4338 - val_acc: 0.8586\n",
            "Epoch 7/50\n",
            "157/157 [==============================] - 2s 15ms/step - loss: 0.4162 - acc: 0.8687 - val_loss: 0.4042 - val_acc: 0.8690\n",
            "Epoch 8/50\n",
            "157/157 [==============================] - 2s 15ms/step - loss: 0.3830 - acc: 0.8779 - val_loss: 0.3802 - val_acc: 0.8748\n",
            "Epoch 9/50\n",
            "157/157 [==============================] - 2s 16ms/step - loss: 0.3552 - acc: 0.8878 - val_loss: 0.3613 - val_acc: 0.8784\n",
            "Epoch 10/50\n",
            "157/157 [==============================] - 2s 15ms/step - loss: 0.3308 - acc: 0.8983 - val_loss: 0.3496 - val_acc: 0.8770\n",
            "Epoch 11/50\n",
            "157/157 [==============================] - 2s 16ms/step - loss: 0.3125 - acc: 0.8960 - val_loss: 0.3333 - val_acc: 0.8854\n",
            "Epoch 12/50\n",
            "157/157 [==============================] - 3s 16ms/step - loss: 0.2935 - acc: 0.9060 - val_loss: 0.3224 - val_acc: 0.8864\n",
            "Epoch 13/50\n",
            "157/157 [==============================] - 2s 15ms/step - loss: 0.2788 - acc: 0.9139 - val_loss: 0.3138 - val_acc: 0.8886\n",
            "Epoch 14/50\n",
            "157/157 [==============================] - 2s 15ms/step - loss: 0.2626 - acc: 0.9156 - val_loss: 0.3058 - val_acc: 0.8904\n",
            "Epoch 15/50\n",
            "157/157 [==============================] - 3s 17ms/step - loss: 0.2539 - acc: 0.9171 - val_loss: 0.2998 - val_acc: 0.8914\n",
            "Epoch 16/50\n",
            "157/157 [==============================] - 3s 16ms/step - loss: 0.2374 - acc: 0.9266 - val_loss: 0.2947 - val_acc: 0.8942\n",
            "Epoch 17/50\n",
            "157/157 [==============================] - 3s 17ms/step - loss: 0.2308 - acc: 0.9283 - val_loss: 0.2905 - val_acc: 0.8950\n",
            "Epoch 18/50\n",
            "157/157 [==============================] - 3s 16ms/step - loss: 0.2231 - acc: 0.9298 - val_loss: 0.2873 - val_acc: 0.8940\n",
            "Epoch 19/50\n",
            "157/157 [==============================] - 2s 16ms/step - loss: 0.2128 - acc: 0.9334 - val_loss: 0.2822 - val_acc: 0.8968\n",
            "Epoch 20/50\n",
            "157/157 [==============================] - 2s 16ms/step - loss: 0.2015 - acc: 0.9365 - val_loss: 0.2796 - val_acc: 0.8966\n",
            "Epoch 21/50\n",
            "157/157 [==============================] - 2s 16ms/step - loss: 0.1932 - acc: 0.9417 - val_loss: 0.2771 - val_acc: 0.8976\n",
            "Epoch 22/50\n",
            "157/157 [==============================] - 2s 15ms/step - loss: 0.1872 - acc: 0.9432 - val_loss: 0.2749 - val_acc: 0.8996\n",
            "Epoch 23/50\n",
            "157/157 [==============================] - 3s 17ms/step - loss: 0.1780 - acc: 0.9441 - val_loss: 0.2737 - val_acc: 0.8994\n",
            "Epoch 24/50\n",
            "157/157 [==============================] - 2s 15ms/step - loss: 0.1678 - acc: 0.9492 - val_loss: 0.2727 - val_acc: 0.8990\n",
            "Epoch 25/50\n",
            "157/157 [==============================] - 2s 16ms/step - loss: 0.1687 - acc: 0.9461 - val_loss: 0.2709 - val_acc: 0.8994\n",
            "Epoch 26/50\n",
            "157/157 [==============================] - 3s 16ms/step - loss: 0.1646 - acc: 0.9491 - val_loss: 0.2701 - val_acc: 0.9004\n",
            "Epoch 27/50\n",
            "157/157 [==============================] - 2s 16ms/step - loss: 0.1504 - acc: 0.9561 - val_loss: 0.2702 - val_acc: 0.9002\n",
            "Epoch 28/50\n",
            "157/157 [==============================] - 2s 16ms/step - loss: 0.1489 - acc: 0.9557 - val_loss: 0.2697 - val_acc: 0.9012\n",
            "Epoch 29/50\n",
            "157/157 [==============================] - 3s 16ms/step - loss: 0.1407 - acc: 0.9589 - val_loss: 0.2708 - val_acc: 0.8996\n",
            "Epoch 30/50\n",
            "157/157 [==============================] - 2s 15ms/step - loss: 0.1384 - acc: 0.9606 - val_loss: 0.2702 - val_acc: 0.9026\n",
            "Epoch 31/50\n",
            "157/157 [==============================] - 2s 16ms/step - loss: 0.1326 - acc: 0.9614 - val_loss: 0.2707 - val_acc: 0.9010\n",
            "Epoch 32/50\n",
            "157/157 [==============================] - 2s 16ms/step - loss: 0.1277 - acc: 0.9616 - val_loss: 0.2705 - val_acc: 0.9014\n",
            "Epoch 33/50\n",
            "157/157 [==============================] - 3s 16ms/step - loss: 0.1222 - acc: 0.9634 - val_loss: 0.2713 - val_acc: 0.9024\n",
            "Epoch 34/50\n",
            "157/157 [==============================] - 3s 16ms/step - loss: 0.1205 - acc: 0.9642 - val_loss: 0.2731 - val_acc: 0.9002\n",
            "Epoch 35/50\n",
            "157/157 [==============================] - 3s 16ms/step - loss: 0.1178 - acc: 0.9664 - val_loss: 0.2742 - val_acc: 0.9008\n",
            "Epoch 36/50\n",
            "157/157 [==============================] - 2s 15ms/step - loss: 0.1102 - acc: 0.9682 - val_loss: 0.2748 - val_acc: 0.9016\n",
            "Epoch 37/50\n",
            "157/157 [==============================] - 2s 16ms/step - loss: 0.1056 - acc: 0.9714 - val_loss: 0.2773 - val_acc: 0.9010\n",
            "Epoch 38/50\n",
            "157/157 [==============================] - 2s 15ms/step - loss: 0.1055 - acc: 0.9715 - val_loss: 0.2776 - val_acc: 0.9012\n",
            "Epoch 39/50\n",
            "157/157 [==============================] - 2s 15ms/step - loss: 0.1007 - acc: 0.9731 - val_loss: 0.2792 - val_acc: 0.9004\n",
            "Epoch 40/50\n",
            "157/157 [==============================] - 2s 16ms/step - loss: 0.0943 - acc: 0.9766 - val_loss: 0.2818 - val_acc: 0.8992\n",
            "Epoch 41/50\n",
            "157/157 [==============================] - 2s 16ms/step - loss: 0.0947 - acc: 0.9757 - val_loss: 0.2832 - val_acc: 0.9008\n",
            "Epoch 42/50\n",
            "157/157 [==============================] - 2s 15ms/step - loss: 0.0890 - acc: 0.9765 - val_loss: 0.2858 - val_acc: 0.8992\n",
            "Epoch 43/50\n",
            "157/157 [==============================] - 3s 17ms/step - loss: 0.0853 - acc: 0.9768 - val_loss: 0.2875 - val_acc: 0.8994\n",
            "Epoch 44/50\n",
            "157/157 [==============================] - 2s 15ms/step - loss: 0.0816 - acc: 0.9794 - val_loss: 0.2908 - val_acc: 0.8996\n",
            "Epoch 45/50\n",
            "157/157 [==============================] - 3s 16ms/step - loss: 0.0825 - acc: 0.9785 - val_loss: 0.2923 - val_acc: 0.8988\n",
            "Epoch 46/50\n",
            "157/157 [==============================] - 2s 15ms/step - loss: 0.0764 - acc: 0.9819 - val_loss: 0.2946 - val_acc: 0.8992\n",
            "Epoch 47/50\n",
            "157/157 [==============================] - 3s 17ms/step - loss: 0.0741 - acc: 0.9834 - val_loss: 0.2973 - val_acc: 0.8990\n",
            "Epoch 48/50\n",
            "157/157 [==============================] - 3s 16ms/step - loss: 0.0745 - acc: 0.9829 - val_loss: 0.3010 - val_acc: 0.8990\n",
            "Epoch 49/50\n",
            "157/157 [==============================] - 2s 16ms/step - loss: 0.0705 - acc: 0.9829 - val_loss: 0.3054 - val_acc: 0.8966\n",
            "Epoch 50/50\n",
            "157/157 [==============================] - 2s 15ms/step - loss: 0.0658 - acc: 0.9850 - val_loss: 0.3071 - val_acc: 0.8984\n"
          ],
          "name": "stdout"
        }
      ]
    },
    {
      "cell_type": "code",
      "metadata": {
        "colab": {
          "base_uri": "https://localhost:8080/",
          "height": 281
        },
        "id": "pbX5JDhM2z_z",
        "outputId": "c3a3bdac-cc91-430c-9c47-d0fc5d6ba80c"
      },
      "source": [
        "%matplotlib inline\n",
        "import matplotlib.pyplot as plt\n",
        "\n",
        "acc = history.history['acc']\n",
        "val_acc = history.history['val_acc']\n",
        "loss = history.history['loss']\n",
        "val_loss = history.history['val_loss']\n",
        "\n",
        "epochs = range(len(acc))\n",
        "\n",
        "plt.subplot(121)\n",
        "plt.plot(epochs, acc, 'bo', label='Training acc')\n",
        "plt.plot(epochs, val_acc, 'b', label='Validation acc')\n",
        "plt.title('Training and validation accuracy')\n",
        "plt.legend()\n",
        "\n",
        "plt.subplot(122)\n",
        "\n",
        "plt.plot(epochs, loss, 'bo', label='Training loss')\n",
        "plt.plot(epochs, val_loss, 'b', label='Validation loss')\n",
        "plt.title('Training and validation loss')\n",
        "plt.legend()\n",
        "\n",
        "plt.show()"
      ],
      "execution_count": 30,
      "outputs": [
        {
          "output_type": "display_data",
          "data": {
            "image/png": "[encoded data removed]",
            "text/plain": [
              "<Figure size 432x288 with 2 Axes>"
            ]
          },
          "metadata": {
            "tags": [],
            "needs_background": "light"
          }
        }
      ]
    },
    {
      "cell_type": "markdown",
      "metadata": {
        "id": "gPtgddle2z_0"
      },
      "source": [
        "The system overfits much more than with BERT, but accuracy of the validation data is higher (better) than with BERT. This shows that it makes sense always to try a simple architecture before trying more complex and advanced architectures."
      ]
    },
    {
      "cell_type": "markdown",
      "metadata": {
        "id": "0lP5Ob7L2z_0"
      },
      "source": [
        "# Results with LSTM baseline\n",
        "An another baseline, this time using an LSTM layer."
      ]
    },
    {
      "cell_type": "code",
      "metadata": {
        "id": "-d8KqWYV2z_0"
      },
      "source": [
        "from tensorflow.keras.models import Model\n",
        "from tensorflow.keras.layers import Input, Dense, Embedding, LSTM"
      ],
      "execution_count": 31,
      "outputs": []
    },
    {
      "cell_type": "code",
      "metadata": {
        "colab": {
          "base_uri": "https://localhost:8080/"
        },
        "id": "qs6RdD6t2z_1",
        "outputId": "febd3955-bf2d-44c2-e17e-a9628c970023"
      },
      "source": [
        "max_features = tokenizer.vocab_size\n",
        "embeddings_size = 32\n",
        "inputs = Input(shape=(500,), dtype=tf.int32)\n",
        "embedding = Embedding(max_features, embeddings_size)(inputs)\n",
        "lstm = LSTM(embeddings_size, dropout=0.2)(embedding)\n",
        "outputs = Dense(1, activation=tf.nn.sigmoid)(lstm)\n",
        "lstm_model = Model(inputs, outputs)\n",
        "lstm_model.summary()"
      ],
      "execution_count": 32,
      "outputs": [
        {
          "output_type": "stream",
          "text": [
            "Model: \"model_2\"\n",
            "_________________________________________________________________\n",
            "Layer (type)                 Output Shape              Param #   \n",
            "=================================================================\n",
            "input_3 (InputLayer)         [(None, 500)]             0         \n",
            "_________________________________________________________________\n",
            "embedding_1 (Embedding)      (None, 500, 32)           976704    \n",
            "_________________________________________________________________\n",
            "lstm (LSTM)                  (None, 32)                8320      \n",
            "_________________________________________________________________\n",
            "dense_2 (Dense)              (None, 1)                 33        \n",
            "=================================================================\n",
            "Total params: 985,057\n",
            "Trainable params: 985,057\n",
            "Non-trainable params: 0\n",
            "_________________________________________________________________\n"
          ],
          "name": "stdout"
        }
      ]
    },
    {
      "cell_type": "code",
      "metadata": {
        "id": "Wlbv1dOd2z_1"
      },
      "source": [
        "lstm_model.compile(optimizer='adam',\n",
        "                   loss='binary_crossentropy',\n",
        "                   metrics=['acc'])"
      ],
      "execution_count": 33,
      "outputs": []
    },
    {
      "cell_type": "code",
      "metadata": {
        "colab": {
          "base_uri": "https://localhost:8080/"
        },
        "id": "Pv4iMltA2z_2",
        "outputId": "92a75c2d-16f2-410b-cbd5-20c15d395ad8"
      },
      "source": [
        "history = lstm_model.fit(np.array(train_indices), np.array(train_label),\n",
        "                    epochs=30,\n",
        "                    batch_size=128,\n",
        "                    validation_split=0.2)"
      ],
      "execution_count": 34,
      "outputs": [
        {
          "output_type": "stream",
          "text": [
            "Epoch 1/30\n",
            "157/157 [==============================] - 35s 36ms/step - loss: 0.6933 - acc: 0.5042 - val_loss: 0.6929 - val_acc: 0.5112\n",
            "Epoch 2/30\n",
            "157/157 [==============================] - 5s 32ms/step - loss: 0.6925 - acc: 0.5138 - val_loss: 0.6926 - val_acc: 0.4970\n",
            "Epoch 3/30\n",
            "157/157 [==============================] - 5s 32ms/step - loss: 0.6800 - acc: 0.5296 - val_loss: 0.6883 - val_acc: 0.5340\n",
            "Epoch 4/30\n",
            "157/157 [==============================] - 5s 32ms/step - loss: 0.6288 - acc: 0.5640 - val_loss: 0.7061 - val_acc: 0.5202\n",
            "Epoch 5/30\n",
            "157/157 [==============================] - 5s 32ms/step - loss: 0.5972 - acc: 0.5841 - val_loss: 0.7361 - val_acc: 0.5348\n",
            "Epoch 6/30\n",
            "157/157 [==============================] - 5s 33ms/step - loss: 0.6266 - acc: 0.5842 - val_loss: 0.7155 - val_acc: 0.5438\n",
            "Epoch 7/30\n",
            "157/157 [==============================] - 5s 32ms/step - loss: 0.5868 - acc: 0.5903 - val_loss: 0.7122 - val_acc: 0.5674\n",
            "Epoch 8/30\n",
            "157/157 [==============================] - 5s 33ms/step - loss: 0.6008 - acc: 0.5913 - val_loss: 0.7363 - val_acc: 0.5364\n",
            "Epoch 9/30\n",
            "157/157 [==============================] - 5s 33ms/step - loss: 0.5901 - acc: 0.5850 - val_loss: 0.7483 - val_acc: 0.5184\n",
            "Epoch 10/30\n",
            "157/157 [==============================] - 5s 32ms/step - loss: 0.5940 - acc: 0.5823 - val_loss: 0.7699 - val_acc: 0.5046\n",
            "Epoch 11/30\n",
            "157/157 [==============================] - 5s 32ms/step - loss: 0.5852 - acc: 0.5811 - val_loss: 0.7942 - val_acc: 0.5206\n",
            "Epoch 12/30\n",
            "157/157 [==============================] - 5s 32ms/step - loss: 0.5820 - acc: 0.5902 - val_loss: 0.8184 - val_acc: 0.5184\n",
            "Epoch 13/30\n",
            "157/157 [==============================] - 5s 33ms/step - loss: 0.5813 - acc: 0.5840 - val_loss: 0.8320 - val_acc: 0.5184\n",
            "Epoch 14/30\n",
            "157/157 [==============================] - 5s 33ms/step - loss: 0.5795 - acc: 0.5922 - val_loss: 0.8496 - val_acc: 0.5164\n",
            "Epoch 15/30\n",
            "157/157 [==============================] - 5s 32ms/step - loss: 0.5814 - acc: 0.5855 - val_loss: 0.8713 - val_acc: 0.5168\n",
            "Epoch 16/30\n",
            "157/157 [==============================] - 5s 32ms/step - loss: 0.5789 - acc: 0.5885 - val_loss: 0.8970 - val_acc: 0.5006\n",
            "Epoch 17/30\n",
            "157/157 [==============================] - 5s 32ms/step - loss: 0.5745 - acc: 0.5928 - val_loss: 0.9119 - val_acc: 0.5012\n",
            "Epoch 18/30\n",
            "157/157 [==============================] - 5s 33ms/step - loss: 0.5698 - acc: 0.5985 - val_loss: 0.9133 - val_acc: 0.5096\n",
            "Epoch 19/30\n",
            "157/157 [==============================] - 5s 33ms/step - loss: 0.5774 - acc: 0.5934 - val_loss: 0.9430 - val_acc: 0.5126\n",
            "Epoch 20/30\n",
            "157/157 [==============================] - 5s 32ms/step - loss: 0.5658 - acc: 0.6041 - val_loss: 0.9351 - val_acc: 0.5008\n",
            "Epoch 21/30\n",
            "157/157 [==============================] - 5s 32ms/step - loss: 0.5569 - acc: 0.6104 - val_loss: 0.8964 - val_acc: 0.5136\n",
            "Epoch 22/30\n",
            "157/157 [==============================] - 5s 33ms/step - loss: 0.5614 - acc: 0.6152 - val_loss: 1.0206 - val_acc: 0.5080\n",
            "Epoch 23/30\n",
            "157/157 [==============================] - 5s 33ms/step - loss: 0.5589 - acc: 0.6199 - val_loss: 1.0098 - val_acc: 0.5102\n",
            "Epoch 24/30\n",
            "157/157 [==============================] - 5s 32ms/step - loss: 0.5470 - acc: 0.6284 - val_loss: 0.9741 - val_acc: 0.4988\n",
            "Epoch 25/30\n",
            "157/157 [==============================] - 5s 33ms/step - loss: 0.5425 - acc: 0.6372 - val_loss: 0.9974 - val_acc: 0.5036\n",
            "Epoch 26/30\n",
            "157/157 [==============================] - 5s 32ms/step - loss: 0.5288 - acc: 0.6591 - val_loss: 1.0346 - val_acc: 0.5078\n",
            "Epoch 27/30\n",
            "157/157 [==============================] - 5s 33ms/step - loss: 0.5314 - acc: 0.6573 - val_loss: 1.0573 - val_acc: 0.5066\n",
            "Epoch 28/30\n",
            "157/157 [==============================] - 5s 33ms/step - loss: 0.5312 - acc: 0.6633 - val_loss: 0.8332 - val_acc: 0.5208\n",
            "Epoch 29/30\n",
            "157/157 [==============================] - 5s 32ms/step - loss: 0.5807 - acc: 0.5944 - val_loss: 0.8904 - val_acc: 0.5226\n",
            "Epoch 30/30\n",
            "157/157 [==============================] - 5s 33ms/step - loss: 0.5758 - acc: 0.5971 - val_loss: 0.9658 - val_acc: 0.5028\n"
          ],
          "name": "stdout"
        }
      ]
    },
    {
      "cell_type": "code",
      "metadata": {
        "colab": {
          "base_uri": "https://localhost:8080/",
          "height": 281
        },
        "id": "cNGQ3m8c2z_2",
        "outputId": "a1f09e6e-463c-4578-a728-f7a726a787a0"
      },
      "source": [
        "%matplotlib inline\n",
        "import matplotlib.pyplot as plt\n",
        "\n",
        "acc = history.history['acc']\n",
        "val_acc = history.history['val_acc']\n",
        "loss = history.history['loss']\n",
        "val_loss = history.history['val_loss']\n",
        "\n",
        "epochs = range(len(acc))\n",
        "\n",
        "plt.subplot(121)\n",
        "plt.plot(epochs, acc, 'bo', label='Training acc')\n",
        "plt.plot(epochs, val_acc, 'b', label='Validation acc')\n",
        "plt.title('Training and validation accuracy')\n",
        "plt.legend()\n",
        "\n",
        "plt.subplot(122)\n",
        "\n",
        "plt.plot(epochs, loss, 'bo', label='Training loss')\n",
        "plt.plot(epochs, val_loss, 'b', label='Validation loss')\n",
        "plt.title('Training and validation loss')\n",
        "plt.legend()\n",
        "\n",
        "plt.show()"
      ],
      "execution_count": 35,
      "outputs": [
        {
          "output_type": "display_data",
          "data": {
            "image/png": "[encoded data removed]",
            "text/plain": [
              "<Figure size 432x288 with 2 Axes>"
            ]
          },
          "metadata": {
            "tags": [],
            "needs_background": "light"
          }
        }
      ]
    },
    {
      "cell_type": "code",
      "metadata": {
        "id": "wi3oWVE32z_2"
      },
      "source": [
        ""
      ],
      "execution_count": 35,
      "outputs": []
    }
  ],
  "metadata": {
    "language_info": {
      "name": "python",
      "codemirror_mode": {
        "name": "ipython",
        "version": 3
      },
      "version": "3.8.3-final"
    },
    "orig_nbformat": 2,
    "file_extension": ".py",
    "mimetype": "text/x-python",
    "name": "python",
    "npconvert_exporter": "python",
    "pygments_lexer": "ipython3",
    "version": 3,
    "kernelspec": {
      "name": "python37364bitbaseconda7888c9435b7a4785acd3247931e842c4",
      "display_name": "Python 3.7.3 64-bit ('base': conda)",
      "language": "python"
    },
    "colab": {
      "name": "W06L1-1-Transformers.ipynb",
      "provenance": [],
      "collapsed_sections": []
    },
    "accelerator": "GPU",
    "widgets": {
      "application/vnd.jupyter.widget-state+json": {
        "bbb64ec979d24a0b8a431d216be162f3": {
          "model_module": "@jupyter-widgets/controls",
          "model_name": "HBoxModel",
          "state": {
            "_view_name": "HBoxView",
            "_dom_classes": [],
            "_model_name": "HBoxModel",
            "_view_module": "@jupyter-widgets/controls",
            "_model_module_version": "1.5.0",
            "_view_count": null,
            "_view_module_version": "1.5.0",
            "box_style": "",
            "layout": "IPY_MODEL_917231f0fde040f6ad42902146bfaed3",
            "_model_module": "@jupyter-widgets/controls",
            "children": [
              "IPY_MODEL_25e24bb08d084137b1fac517b67288c1",
              "IPY_MODEL_049074e8a5f143198438d1b3bf55cf5a"
            ]
          }
        },
        "917231f0fde040f6ad42902146bfaed3": {
          "model_module": "@jupyter-widgets/base",
          "model_name": "LayoutModel",
          "state": {
            "_view_name": "LayoutView",
            "grid_template_rows": null,
            "right": null,
            "justify_content": null,
            "_view_module": "@jupyter-widgets/base",
            "overflow": null,
            "_model_module_version": "1.2.0",
            "_view_count": null,
            "flex_flow": null,
            "width": null,
            "min_width": null,
            "border": null,
            "align_items": null,
            "bottom": null,
            "_model_module": "@jupyter-widgets/base",
            "top": null,
            "grid_column": null,
            "overflow_y": null,
            "overflow_x": null,
            "grid_auto_flow": null,
            "grid_area": null,
            "grid_template_columns": null,
            "flex": null,
            "_model_name": "LayoutModel",
            "justify_items": null,
            "grid_row": null,
            "max_height": null,
            "align_content": null,
            "visibility": null,
            "align_self": null,
            "height": null,
            "min_height": null,
            "padding": null,
            "grid_auto_rows": null,
            "grid_gap": null,
            "max_width": null,
            "order": null,
            "_view_module_version": "1.2.0",
            "grid_template_areas": null,
            "object_position": null,
            "object_fit": null,
            "grid_auto_columns": null,
            "margin": null,
            "display": null,
            "left": null
          }
        },
        "25e24bb08d084137b1fac517b67288c1": {
          "model_module": "@jupyter-widgets/controls",
          "model_name": "FloatProgressModel",
          "state": {
            "_view_name": "ProgressView",
            "style": "IPY_MODEL_f4e07ecd5f3c470a987a2ac27faee3ae",
            "_dom_classes": [],
            "description": "Downloading: 100%",
            "_model_name": "FloatProgressModel",
            "bar_style": "success",
            "max": 231508,
            "_view_module": "@jupyter-widgets/controls",
            "_model_module_version": "1.5.0",
            "value": 231508,
            "_view_count": null,
            "_view_module_version": "1.5.0",
            "orientation": "horizontal",
            "min": 0,
            "description_tooltip": null,
            "_model_module": "@jupyter-widgets/controls",
            "layout": "IPY_MODEL_cb4930034f7241adbb7c7e420c71284e"
          }
        },
        "049074e8a5f143198438d1b3bf55cf5a": {
          "model_module": "@jupyter-widgets/controls",
          "model_name": "HTMLModel",
          "state": {
            "_view_name": "HTMLView",
            "style": "IPY_MODEL_7595c2365790475e8561ea2a5e54928f",
            "_dom_classes": [],
            "description": "",
            "_model_name": "HTMLModel",
            "placeholder": "​",
            "_view_module": "@jupyter-widgets/controls",
            "_model_module_version": "1.5.0",
            "value": " 232k/232k [00:00&lt;00:00, 1.88MB/s]",
            "_view_count": null,
            "_view_module_version": "1.5.0",
            "description_tooltip": null,
            "_model_module": "@jupyter-widgets/controls",
            "layout": "IPY_MODEL_0c495d2aaf124255b6ec543dca0c5786"
          }
        },
        "f4e07ecd5f3c470a987a2ac27faee3ae": {
          "model_module": "@jupyter-widgets/controls",
          "model_name": "ProgressStyleModel",
          "state": {
            "_view_name": "StyleView",
            "_model_name": "ProgressStyleModel",
            "description_width": "initial",
            "_view_module": "@jupyter-widgets/base",
            "_model_module_version": "1.5.0",
            "_view_count": null,
            "_view_module_version": "1.2.0",
            "bar_color": null,
            "_model_module": "@jupyter-widgets/controls"
          }
        },
        "cb4930034f7241adbb7c7e420c71284e": {
          "model_module": "@jupyter-widgets/base",
          "model_name": "LayoutModel",
          "state": {
            "_view_name": "LayoutView",
            "grid_template_rows": null,
            "right": null,
            "justify_content": null,
            "_view_module": "@jupyter-widgets/base",
            "overflow": null,
            "_model_module_version": "1.2.0",
            "_view_count": null,
            "flex_flow": null,
            "width": null,
            "min_width": null,
            "border": null,
            "align_items": null,
            "bottom": null,
            "_model_module": "@jupyter-widgets/base",
            "top": null,
            "grid_column": null,
            "overflow_y": null,
            "overflow_x": null,
            "grid_auto_flow": null,
            "grid_area": null,
            "grid_template_columns": null,
            "flex": null,
            "_model_name": "LayoutModel",
            "justify_items": null,
            "grid_row": null,
            "max_height": null,
            "align_content": null,
            "visibility": null,
            "align_self": null,
            "height": null,
            "min_height": null,
            "padding": null,
            "grid_auto_rows": null,
            "grid_gap": null,
            "max_width": null,
            "order": null,
            "_view_module_version": "1.2.0",
            "grid_template_areas": null,
            "object_position": null,
            "object_fit": null,
            "grid_auto_columns": null,
            "margin": null,
            "display": null,
            "left": null
          }
        },
        "7595c2365790475e8561ea2a5e54928f": {
          "model_module": "@jupyter-widgets/controls",
          "model_name": "DescriptionStyleModel",
          "state": {
            "_view_name": "StyleView",
            "_model_name": "DescriptionStyleModel",
            "description_width": "",
            "_view_module": "@jupyter-widgets/base",
            "_model_module_version": "1.5.0",
            "_view_count": null,
            "_view_module_version": "1.2.0",
            "_model_module": "@jupyter-widgets/controls"
          }
        },
        "0c495d2aaf124255b6ec543dca0c5786": {
          "model_module": "@jupyter-widgets/base",
          "model_name": "LayoutModel",
          "state": {
            "_view_name": "LayoutView",
            "grid_template_rows": null,
            "right": null,
            "justify_content": null,
            "_view_module": "@jupyter-widgets/base",
            "overflow": null,
            "_model_module_version": "1.2.0",
            "_view_count": null,
            "flex_flow": null,
            "width": null,
            "min_width": null,
            "border": null,
            "align_items": null,
            "bottom": null,
            "_model_module": "@jupyter-widgets/base",
            "top": null,
            "grid_column": null,
            "overflow_y": null,
            "overflow_x": null,
            "grid_auto_flow": null,
            "grid_area": null,
            "grid_template_columns": null,
            "flex": null,
            "_model_name": "LayoutModel",
            "justify_items": null,
            "grid_row": null,
            "max_height": null,
            "align_content": null,
            "visibility": null,
            "align_self": null,
            "height": null,
            "min_height": null,
            "padding": null,
            "grid_auto_rows": null,
            "grid_gap": null,
            "max_width": null,
            "order": null,
            "_view_module_version": "1.2.0",
            "grid_template_areas": null,
            "object_position": null,
            "object_fit": null,
            "grid_auto_columns": null,
            "margin": null,
            "display": null,
            "left": null
          }
        },
        "ad9f2c069dfe4dbfa4e9c986fead962f": {
          "model_module": "@jupyter-widgets/controls",
          "model_name": "HBoxModel",
          "state": {
            "_view_name": "HBoxView",
            "_dom_classes": [],
            "_model_name": "HBoxModel",
            "_view_module": "@jupyter-widgets/controls",
            "_model_module_version": "1.5.0",
            "_view_count": null,
            "_view_module_version": "1.5.0",
            "box_style": "",
            "layout": "IPY_MODEL_731ba630c0c34a6483c925750fde5df4",
            "_model_module": "@jupyter-widgets/controls",
            "children": [
              "IPY_MODEL_3397c454d4604b5cabf09895d31146b9",
              "IPY_MODEL_a5f6cb38714640a089e21fda73dfc11e"
            ]
          }
        },
        "731ba630c0c34a6483c925750fde5df4": {
          "model_module": "@jupyter-widgets/base",
          "model_name": "LayoutModel",
          "state": {
            "_view_name": "LayoutView",
            "grid_template_rows": null,
            "right": null,
            "justify_content": null,
            "_view_module": "@jupyter-widgets/base",
            "overflow": null,
            "_model_module_version": "1.2.0",
            "_view_count": null,
            "flex_flow": null,
            "width": null,
            "min_width": null,
            "border": null,
            "align_items": null,
            "bottom": null,
            "_model_module": "@jupyter-widgets/base",
            "top": null,
            "grid_column": null,
            "overflow_y": null,
            "overflow_x": null,
            "grid_auto_flow": null,
            "grid_area": null,
            "grid_template_columns": null,
            "flex": null,
            "_model_name": "LayoutModel",
            "justify_items": null,
            "grid_row": null,
            "max_height": null,
            "align_content": null,
            "visibility": null,
            "align_self": null,
            "height": null,
            "min_height": null,
            "padding": null,
            "grid_auto_rows": null,
            "grid_gap": null,
            "max_width": null,
            "order": null,
            "_view_module_version": "1.2.0",
            "grid_template_areas": null,
            "object_position": null,
            "object_fit": null,
            "grid_auto_columns": null,
            "margin": null,
            "display": null,
            "left": null
          }
        },
        "3397c454d4604b5cabf09895d31146b9": {
          "model_module": "@jupyter-widgets/controls",
          "model_name": "FloatProgressModel",
          "state": {
            "_view_name": "ProgressView",
            "style": "IPY_MODEL_bf5661784e7f4c0cb9843876f038cb9e",
            "_dom_classes": [],
            "description": "Downloading: 100%",
            "_model_name": "FloatProgressModel",
            "bar_style": "success",
            "max": 28,
            "_view_module": "@jupyter-widgets/controls",
            "_model_module_version": "1.5.0",
            "value": 28,
            "_view_count": null,
            "_view_module_version": "1.5.0",
            "orientation": "horizontal",
            "min": 0,
            "description_tooltip": null,
            "_model_module": "@jupyter-widgets/controls",
            "layout": "IPY_MODEL_82116c443e9c48e3b2f249ad97c44e51"
          }
        },
        "a5f6cb38714640a089e21fda73dfc11e": {
          "model_module": "@jupyter-widgets/controls",
          "model_name": "HTMLModel",
          "state": {
            "_view_name": "HTMLView",
            "style": "IPY_MODEL_c40974faa8dc47a190d3aa5418acd56f",
            "_dom_classes": [],
            "description": "",
            "_model_name": "HTMLModel",
            "placeholder": "​",
            "_view_module": "@jupyter-widgets/controls",
            "_model_module_version": "1.5.0",
            "value": " 28.0/28.0 [00:00&lt;00:00, 160B/s]",
            "_view_count": null,
            "_view_module_version": "1.5.0",
            "description_tooltip": null,
            "_model_module": "@jupyter-widgets/controls",
            "layout": "IPY_MODEL_370270d8bc2244b880d7ba4083c98c07"
          }
        },
        "bf5661784e7f4c0cb9843876f038cb9e": {
          "model_module": "@jupyter-widgets/controls",
          "model_name": "ProgressStyleModel",
          "state": {
            "_view_name": "StyleView",
            "_model_name": "ProgressStyleModel",
            "description_width": "initial",
            "_view_module": "@jupyter-widgets/base",
            "_model_module_version": "1.5.0",
            "_view_count": null,
            "_view_module_version": "1.2.0",
            "bar_color": null,
            "_model_module": "@jupyter-widgets/controls"
          }
        },
        "82116c443e9c48e3b2f249ad97c44e51": {
          "model_module": "@jupyter-widgets/base",
          "model_name": "LayoutModel",
          "state": {
            "_view_name": "LayoutView",
            "grid_template_rows": null,
            "right": null,
            "justify_content": null,
            "_view_module": "@jupyter-widgets/base",
            "overflow": null,
            "_model_module_version": "1.2.0",
            "_view_count": null,
            "flex_flow": null,
            "width": null,
            "min_width": null,
            "border": null,
            "align_items": null,
            "bottom": null,
            "_model_module": "@jupyter-widgets/base",
            "top": null,
            "grid_column": null,
            "overflow_y": null,
            "overflow_x": null,
            "grid_auto_flow": null,
            "grid_area": null,
            "grid_template_columns": null,
            "flex": null,
            "_model_name": "LayoutModel",
            "justify_items": null,
            "grid_row": null,
            "max_height": null,
            "align_content": null,
            "visibility": null,
            "align_self": null,
            "height": null,
            "min_height": null,
            "padding": null,
            "grid_auto_rows": null,
            "grid_gap": null,
            "max_width": null,
            "order": null,
            "_view_module_version": "1.2.0",
            "grid_template_areas": null,
            "object_position": null,
            "object_fit": null,
            "grid_auto_columns": null,
            "margin": null,
            "display": null,
            "left": null
          }
        },
        "c40974faa8dc47a190d3aa5418acd56f": {
          "model_module": "@jupyter-widgets/controls",
          "model_name": "DescriptionStyleModel",
          "state": {
            "_view_name": "StyleView",
            "_model_name": "DescriptionStyleModel",
            "description_width": "",
            "_view_module": "@jupyter-widgets/base",
            "_model_module_version": "1.5.0",
            "_view_count": null,
            "_view_module_version": "1.2.0",
            "_model_module": "@jupyter-widgets/controls"
          }
        },
        "370270d8bc2244b880d7ba4083c98c07": {
          "model_module": "@jupyter-widgets/base",
          "model_name": "LayoutModel",
          "state": {
            "_view_name": "LayoutView",
            "grid_template_rows": null,
            "right": null,
            "justify_content": null,
            "_view_module": "@jupyter-widgets/base",
            "overflow": null,
            "_model_module_version": "1.2.0",
            "_view_count": null,
            "flex_flow": null,
            "width": null,
            "min_width": null,
            "border": null,
            "align_items": null,
            "bottom": null,
            "_model_module": "@jupyter-widgets/base",
            "top": null,
            "grid_column": null,
            "overflow_y": null,
            "overflow_x": null,
            "grid_auto_flow": null,
            "grid_area": null,
            "grid_template_columns": null,
            "flex": null,
            "_model_name": "LayoutModel",
            "justify_items": null,
            "grid_row": null,
            "max_height": null,
            "align_content": null,
            "visibility": null,
            "align_self": null,
            "height": null,
            "min_height": null,
            "padding": null,
            "grid_auto_rows": null,
            "grid_gap": null,
            "max_width": null,
            "order": null,
            "_view_module_version": "1.2.0",
            "grid_template_areas": null,
            "object_position": null,
            "object_fit": null,
            "grid_auto_columns": null,
            "margin": null,
            "display": null,
            "left": null
          }
        },
        "760d1cffd1144c0c97c008508aaf1d9a": {
          "model_module": "@jupyter-widgets/controls",
          "model_name": "HBoxModel",
          "state": {
            "_view_name": "HBoxView",
            "_dom_classes": [],
            "_model_name": "HBoxModel",
            "_view_module": "@jupyter-widgets/controls",
            "_model_module_version": "1.5.0",
            "_view_count": null,
            "_view_module_version": "1.5.0",
            "box_style": "",
            "layout": "IPY_MODEL_470af15dc8b6429e8d62cb13899920d5",
            "_model_module": "@jupyter-widgets/controls",
            "children": [
              "IPY_MODEL_1b5dd2213d18496eb9144ea28c78f884",
              "IPY_MODEL_ce3460d9936646b58fea779e0c9ed893"
            ]
          }
        },
        "470af15dc8b6429e8d62cb13899920d5": {
          "model_module": "@jupyter-widgets/base",
          "model_name": "LayoutModel",
          "state": {
            "_view_name": "LayoutView",
            "grid_template_rows": null,
            "right": null,
            "justify_content": null,
            "_view_module": "@jupyter-widgets/base",
            "overflow": null,
            "_model_module_version": "1.2.0",
            "_view_count": null,
            "flex_flow": null,
            "width": null,
            "min_width": null,
            "border": null,
            "align_items": null,
            "bottom": null,
            "_model_module": "@jupyter-widgets/base",
            "top": null,
            "grid_column": null,
            "overflow_y": null,
            "overflow_x": null,
            "grid_auto_flow": null,
            "grid_area": null,
            "grid_template_columns": null,
            "flex": null,
            "_model_name": "LayoutModel",
            "justify_items": null,
            "grid_row": null,
            "max_height": null,
            "align_content": null,
            "visibility": null,
            "align_self": null,
            "height": null,
            "min_height": null,
            "padding": null,
            "grid_auto_rows": null,
            "grid_gap": null,
            "max_width": null,
            "order": null,
            "_view_module_version": "1.2.0",
            "grid_template_areas": null,
            "object_position": null,
            "object_fit": null,
            "grid_auto_columns": null,
            "margin": null,
            "display": null,
            "left": null
          }
        },
        "1b5dd2213d18496eb9144ea28c78f884": {
          "model_module": "@jupyter-widgets/controls",
          "model_name": "FloatProgressModel",
          "state": {
            "_view_name": "ProgressView",
            "style": "IPY_MODEL_5df1217c64e241588c60c3de42372f76",
            "_dom_classes": [],
            "description": "Downloading: 100%",
            "_model_name": "FloatProgressModel",
            "bar_style": "success",
            "max": 466062,
            "_view_module": "@jupyter-widgets/controls",
            "_model_module_version": "1.5.0",
            "value": 466062,
            "_view_count": null,
            "_view_module_version": "1.5.0",
            "orientation": "horizontal",
            "min": 0,
            "description_tooltip": null,
            "_model_module": "@jupyter-widgets/controls",
            "layout": "IPY_MODEL_1deadcbfae4f4b8b941ef93c54500392"
          }
        },
        "ce3460d9936646b58fea779e0c9ed893": {
          "model_module": "@jupyter-widgets/controls",
          "model_name": "HTMLModel",
          "state": {
            "_view_name": "HTMLView",
            "style": "IPY_MODEL_764aa27e87bd4c50b47e893c6842ce14",
            "_dom_classes": [],
            "description": "",
            "_model_name": "HTMLModel",
            "placeholder": "​",
            "_view_module": "@jupyter-widgets/controls",
            "_model_module_version": "1.5.0",
            "value": " 466k/466k [00:00&lt;00:00, 5.50MB/s]",
            "_view_count": null,
            "_view_module_version": "1.5.0",
            "description_tooltip": null,
            "_model_module": "@jupyter-widgets/controls",
            "layout": "IPY_MODEL_f3855d88261a4e608cc87e11604c5938"
          }
        },
        "5df1217c64e241588c60c3de42372f76": {
          "model_module": "@jupyter-widgets/controls",
          "model_name": "ProgressStyleModel",
          "state": {
            "_view_name": "StyleView",
            "_model_name": "ProgressStyleModel",
            "description_width": "initial",
            "_view_module": "@jupyter-widgets/base",
            "_model_module_version": "1.5.0",
            "_view_count": null,
            "_view_module_version": "1.2.0",
            "bar_color": null,
            "_model_module": "@jupyter-widgets/controls"
          }
        },
        "1deadcbfae4f4b8b941ef93c54500392": {
          "model_module": "@jupyter-widgets/base",
          "model_name": "LayoutModel",
          "state": {
            "_view_name": "LayoutView",
            "grid_template_rows": null,
            "right": null,
            "justify_content": null,
            "_view_module": "@jupyter-widgets/base",
            "overflow": null,
            "_model_module_version": "1.2.0",
            "_view_count": null,
            "flex_flow": null,
            "width": null,
            "min_width": null,
            "border": null,
            "align_items": null,
            "bottom": null,
            "_model_module": "@jupyter-widgets/base",
            "top": null,
            "grid_column": null,
            "overflow_y": null,
            "overflow_x": null,
            "grid_auto_flow": null,
            "grid_area": null,
            "grid_template_columns": null,
            "flex": null,
            "_model_name": "LayoutModel",
            "justify_items": null,
            "grid_row": null,
            "max_height": null,
            "align_content": null,
            "visibility": null,
            "align_self": null,
            "height": null,
            "min_height": null,
            "padding": null,
            "grid_auto_rows": null,
            "grid_gap": null,
            "max_width": null,
            "order": null,
            "_view_module_version": "1.2.0",
            "grid_template_areas": null,
            "object_position": null,
            "object_fit": null,
            "grid_auto_columns": null,
            "margin": null,
            "display": null,
            "left": null
          }
        },
        "764aa27e87bd4c50b47e893c6842ce14": {
          "model_module": "@jupyter-widgets/controls",
          "model_name": "DescriptionStyleModel",
          "state": {
            "_view_name": "StyleView",
            "_model_name": "DescriptionStyleModel",
            "description_width": "",
            "_view_module": "@jupyter-widgets/base",
            "_model_module_version": "1.5.0",
            "_view_count": null,
            "_view_module_version": "1.2.0",
            "_model_module": "@jupyter-widgets/controls"
          }
        },
        "f3855d88261a4e608cc87e11604c5938": {
          "model_module": "@jupyter-widgets/base",
          "model_name": "LayoutModel",
          "state": {
            "_view_name": "LayoutView",
            "grid_template_rows": null,
            "right": null,
            "justify_content": null,
            "_view_module": "@jupyter-widgets/base",
            "overflow": null,
            "_model_module_version": "1.2.0",
            "_view_count": null,
            "flex_flow": null,
            "width": null,
            "min_width": null,
            "border": null,
            "align_items": null,
            "bottom": null,
            "_model_module": "@jupyter-widgets/base",
            "top": null,
            "grid_column": null,
            "overflow_y": null,
            "overflow_x": null,
            "grid_auto_flow": null,
            "grid_area": null,
            "grid_template_columns": null,
            "flex": null,
            "_model_name": "LayoutModel",
            "justify_items": null,
            "grid_row": null,
            "max_height": null,
            "align_content": null,
            "visibility": null,
            "align_self": null,
            "height": null,
            "min_height": null,
            "padding": null,
            "grid_auto_rows": null,
            "grid_gap": null,
            "max_width": null,
            "order": null,
            "_view_module_version": "1.2.0",
            "grid_template_areas": null,
            "object_position": null,
            "object_fit": null,
            "grid_auto_columns": null,
            "margin": null,
            "display": null,
            "left": null
          }
        },
        "2e5d2a0ce2114e40ad0b49b850a173eb": {
          "model_module": "@jupyter-widgets/controls",
          "model_name": "HBoxModel",
          "state": {
            "_view_name": "HBoxView",
            "_dom_classes": [],
            "_model_name": "HBoxModel",
            "_view_module": "@jupyter-widgets/controls",
            "_model_module_version": "1.5.0",
            "_view_count": null,
            "_view_module_version": "1.5.0",
            "box_style": "",
            "layout": "IPY_MODEL_a958a4395f954e788db76713068cd520",
            "_model_module": "@jupyter-widgets/controls",
            "children": [
              "IPY_MODEL_de3a66241e474630a29b91e9655a506f",
              "IPY_MODEL_6a4277010b3f4e05b928193a2962f459"
            ]
          }
        },
        "a958a4395f954e788db76713068cd520": {
          "model_module": "@jupyter-widgets/base",
          "model_name": "LayoutModel",
          "state": {
            "_view_name": "LayoutView",
            "grid_template_rows": null,
            "right": null,
            "justify_content": null,
            "_view_module": "@jupyter-widgets/base",
            "overflow": null,
            "_model_module_version": "1.2.0",
            "_view_count": null,
            "flex_flow": null,
            "width": null,
            "min_width": null,
            "border": null,
            "align_items": null,
            "bottom": null,
            "_model_module": "@jupyter-widgets/base",
            "top": null,
            "grid_column": null,
            "overflow_y": null,
            "overflow_x": null,
            "grid_auto_flow": null,
            "grid_area": null,
            "grid_template_columns": null,
            "flex": null,
            "_model_name": "LayoutModel",
            "justify_items": null,
            "grid_row": null,
            "max_height": null,
            "align_content": null,
            "visibility": null,
            "align_self": null,
            "height": null,
            "min_height": null,
            "padding": null,
            "grid_auto_rows": null,
            "grid_gap": null,
            "max_width": null,
            "order": null,
            "_view_module_version": "1.2.0",
            "grid_template_areas": null,
            "object_position": null,
            "object_fit": null,
            "grid_auto_columns": null,
            "margin": null,
            "display": null,
            "left": null
          }
        },
        "de3a66241e474630a29b91e9655a506f": {
          "model_module": "@jupyter-widgets/controls",
          "model_name": "FloatProgressModel",
          "state": {
            "_view_name": "ProgressView",
            "style": "IPY_MODEL_3d574cf02dc24805a23ce5336e8892f3",
            "_dom_classes": [],
            "description": "Downloading: 100%",
            "_model_name": "FloatProgressModel",
            "bar_style": "success",
            "max": 433,
            "_view_module": "@jupyter-widgets/controls",
            "_model_module_version": "1.5.0",
            "value": 433,
            "_view_count": null,
            "_view_module_version": "1.5.0",
            "orientation": "horizontal",
            "min": 0,
            "description_tooltip": null,
            "_model_module": "@jupyter-widgets/controls",
            "layout": "IPY_MODEL_cb271c8b689146e8a998fc0a1b36ae49"
          }
        },
        "6a4277010b3f4e05b928193a2962f459": {
          "model_module": "@jupyter-widgets/controls",
          "model_name": "HTMLModel",
          "state": {
            "_view_name": "HTMLView",
            "style": "IPY_MODEL_cfc7917764cf4b80b9e062eb05dd544c",
            "_dom_classes": [],
            "description": "",
            "_model_name": "HTMLModel",
            "placeholder": "​",
            "_view_module": "@jupyter-widgets/controls",
            "_model_module_version": "1.5.0",
            "value": " 433/433 [00:10&lt;00:00, 41.4B/s]",
            "_view_count": null,
            "_view_module_version": "1.5.0",
            "description_tooltip": null,
            "_model_module": "@jupyter-widgets/controls",
            "layout": "IPY_MODEL_84d5d929233f45bfba2d9ec27a460fa0"
          }
        },
        "3d574cf02dc24805a23ce5336e8892f3": {
          "model_module": "@jupyter-widgets/controls",
          "model_name": "ProgressStyleModel",
          "state": {
            "_view_name": "StyleView",
            "_model_name": "ProgressStyleModel",
            "description_width": "initial",
            "_view_module": "@jupyter-widgets/base",
            "_model_module_version": "1.5.0",
            "_view_count": null,
            "_view_module_version": "1.2.0",
            "bar_color": null,
            "_model_module": "@jupyter-widgets/controls"
          }
        },
        "cb271c8b689146e8a998fc0a1b36ae49": {
          "model_module": "@jupyter-widgets/base",
          "model_name": "LayoutModel",
          "state": {
            "_view_name": "LayoutView",
            "grid_template_rows": null,
            "right": null,
            "justify_content": null,
            "_view_module": "@jupyter-widgets/base",
            "overflow": null,
            "_model_module_version": "1.2.0",
            "_view_count": null,
            "flex_flow": null,
            "width": null,
            "min_width": null,
            "border": null,
            "align_items": null,
            "bottom": null,
            "_model_module": "@jupyter-widgets/base",
            "top": null,
            "grid_column": null,
            "overflow_y": null,
            "overflow_x": null,
            "grid_auto_flow": null,
            "grid_area": null,
            "grid_template_columns": null,
            "flex": null,
            "_model_name": "LayoutModel",
            "justify_items": null,
            "grid_row": null,
            "max_height": null,
            "align_content": null,
            "visibility": null,
            "align_self": null,
            "height": null,
            "min_height": null,
            "padding": null,
            "grid_auto_rows": null,
            "grid_gap": null,
            "max_width": null,
            "order": null,
            "_view_module_version": "1.2.0",
            "grid_template_areas": null,
            "object_position": null,
            "object_fit": null,
            "grid_auto_columns": null,
            "margin": null,
            "display": null,
            "left": null
          }
        },
        "cfc7917764cf4b80b9e062eb05dd544c": {
          "model_module": "@jupyter-widgets/controls",
          "model_name": "DescriptionStyleModel",
          "state": {
            "_view_name": "StyleView",
            "_model_name": "DescriptionStyleModel",
            "description_width": "",
            "_view_module": "@jupyter-widgets/base",
            "_model_module_version": "1.5.0",
            "_view_count": null,
            "_view_module_version": "1.2.0",
            "_model_module": "@jupyter-widgets/controls"
          }
        },
        "84d5d929233f45bfba2d9ec27a460fa0": {
          "model_module": "@jupyter-widgets/base",
          "model_name": "LayoutModel",
          "state": {
            "_view_name": "LayoutView",
            "grid_template_rows": null,
            "right": null,
            "justify_content": null,
            "_view_module": "@jupyter-widgets/base",
            "overflow": null,
            "_model_module_version": "1.2.0",
            "_view_count": null,
            "flex_flow": null,
            "width": null,
            "min_width": null,
            "border": null,
            "align_items": null,
            "bottom": null,
            "_model_module": "@jupyter-widgets/base",
            "top": null,
            "grid_column": null,
            "overflow_y": null,
            "overflow_x": null,
            "grid_auto_flow": null,
            "grid_area": null,
            "grid_template_columns": null,
            "flex": null,
            "_model_name": "LayoutModel",
            "justify_items": null,
            "grid_row": null,
            "max_height": null,
            "align_content": null,
            "visibility": null,
            "align_self": null,
            "height": null,
            "min_height": null,
            "padding": null,
            "grid_auto_rows": null,
            "grid_gap": null,
            "max_width": null,
            "order": null,
            "_view_module_version": "1.2.0",
            "grid_template_areas": null,
            "object_position": null,
            "object_fit": null,
            "grid_auto_columns": null,
            "margin": null,
            "display": null,
            "left": null
          }
        },
        "cf52d15ab00646e5b379e9777162d13e": {
          "model_module": "@jupyter-widgets/controls",
          "model_name": "HBoxModel",
          "state": {
            "_view_name": "HBoxView",
            "_dom_classes": [],
            "_model_name": "HBoxModel",
            "_view_module": "@jupyter-widgets/controls",
            "_model_module_version": "1.5.0",
            "_view_count": null,
            "_view_module_version": "1.5.0",
            "box_style": "",
            "layout": "IPY_MODEL_98d85458bcdd4e04958c4b3a287c3c0a",
            "_model_module": "@jupyter-widgets/controls",
            "children": [
              "IPY_MODEL_e8481f7a6a9d42fdb90a634dd392133b",
              "IPY_MODEL_c71ed66580cc473b99e37871f2b7f10f"
            ]
          }
        },
        "98d85458bcdd4e04958c4b3a287c3c0a": {
          "model_module": "@jupyter-widgets/base",
          "model_name": "LayoutModel",
          "state": {
            "_view_name": "LayoutView",
            "grid_template_rows": null,
            "right": null,
            "justify_content": null,
            "_view_module": "@jupyter-widgets/base",
            "overflow": null,
            "_model_module_version": "1.2.0",
            "_view_count": null,
            "flex_flow": null,
            "width": null,
            "min_width": null,
            "border": null,
            "align_items": null,
            "bottom": null,
            "_model_module": "@jupyter-widgets/base",
            "top": null,
            "grid_column": null,
            "overflow_y": null,
            "overflow_x": null,
            "grid_auto_flow": null,
            "grid_area": null,
            "grid_template_columns": null,
            "flex": null,
            "_model_name": "LayoutModel",
            "justify_items": null,
            "grid_row": null,
            "max_height": null,
            "align_content": null,
            "visibility": null,
            "align_self": null,
            "height": null,
            "min_height": null,
            "padding": null,
            "grid_auto_rows": null,
            "grid_gap": null,
            "max_width": null,
            "order": null,
            "_view_module_version": "1.2.0",
            "grid_template_areas": null,
            "object_position": null,
            "object_fit": null,
            "grid_auto_columns": null,
            "margin": null,
            "display": null,
            "left": null
          }
        },
        "e8481f7a6a9d42fdb90a634dd392133b": {
          "model_module": "@jupyter-widgets/controls",
          "model_name": "FloatProgressModel",
          "state": {
            "_view_name": "ProgressView",
            "style": "IPY_MODEL_43e2d0de41fc495086d125dbb3492915",
            "_dom_classes": [],
            "description": "Downloading: 100%",
            "_model_name": "FloatProgressModel",
            "bar_style": "success",
            "max": 536063208,
            "_view_module": "@jupyter-widgets/controls",
            "_model_module_version": "1.5.0",
            "value": 536063208,
            "_view_count": null,
            "_view_module_version": "1.5.0",
            "orientation": "horizontal",
            "min": 0,
            "description_tooltip": null,
            "_model_module": "@jupyter-widgets/controls",
            "layout": "IPY_MODEL_76fc3ea81b524f86ba9de5ba0e45a594"
          }
        },
        "c71ed66580cc473b99e37871f2b7f10f": {
          "model_module": "@jupyter-widgets/controls",
          "model_name": "HTMLModel",
          "state": {
            "_view_name": "HTMLView",
            "style": "IPY_MODEL_e6997a11af27448f935e6e8867594788",
            "_dom_classes": [],
            "description": "",
            "_model_name": "HTMLModel",
            "placeholder": "​",
            "_view_module": "@jupyter-widgets/controls",
            "_model_module_version": "1.5.0",
            "value": " 536M/536M [00:10&lt;00:00, 52.4MB/s]",
            "_view_count": null,
            "_view_module_version": "1.5.0",
            "description_tooltip": null,
            "_model_module": "@jupyter-widgets/controls",
            "layout": "IPY_MODEL_c28c85851c6c4cbb9a391bf93e395ad8"
          }
        },
        "43e2d0de41fc495086d125dbb3492915": {
          "model_module": "@jupyter-widgets/controls",
          "model_name": "ProgressStyleModel",
          "state": {
            "_view_name": "StyleView",
            "_model_name": "ProgressStyleModel",
            "description_width": "initial",
            "_view_module": "@jupyter-widgets/base",
            "_model_module_version": "1.5.0",
            "_view_count": null,
            "_view_module_version": "1.2.0",
            "bar_color": null,
            "_model_module": "@jupyter-widgets/controls"
          }
        },
        "76fc3ea81b524f86ba9de5ba0e45a594": {
          "model_module": "@jupyter-widgets/base",
          "model_name": "LayoutModel",
          "state": {
            "_view_name": "LayoutView",
            "grid_template_rows": null,
            "right": null,
            "justify_content": null,
            "_view_module": "@jupyter-widgets/base",
            "overflow": null,
            "_model_module_version": "1.2.0",
            "_view_count": null,
            "flex_flow": null,
            "width": null,
            "min_width": null,
            "border": null,
            "align_items": null,
            "bottom": null,
            "_model_module": "@jupyter-widgets/base",
            "top": null,
            "grid_column": null,
            "overflow_y": null,
            "overflow_x": null,
            "grid_auto_flow": null,
            "grid_area": null,
            "grid_template_columns": null,
            "flex": null,
            "_model_name": "LayoutModel",
            "justify_items": null,
            "grid_row": null,
            "max_height": null,
            "align_content": null,
            "visibility": null,
            "align_self": null,
            "height": null,
            "min_height": null,
            "padding": null,
            "grid_auto_rows": null,
            "grid_gap": null,
            "max_width": null,
            "order": null,
            "_view_module_version": "1.2.0",
            "grid_template_areas": null,
            "object_position": null,
            "object_fit": null,
            "grid_auto_columns": null,
            "margin": null,
            "display": null,
            "left": null
          }
        },
        "e6997a11af27448f935e6e8867594788": {
          "model_module": "@jupyter-widgets/controls",
          "model_name": "DescriptionStyleModel",
          "state": {
            "_view_name": "StyleView",
            "_model_name": "DescriptionStyleModel",
            "description_width": "",
            "_view_module": "@jupyter-widgets/base",
            "_model_module_version": "1.5.0",
            "_view_count": null,
            "_view_module_version": "1.2.0",
            "_model_module": "@jupyter-widgets/controls"
          }
        },
        "c28c85851c6c4cbb9a391bf93e395ad8": {
          "model_module": "@jupyter-widgets/base",
          "model_name": "LayoutModel",
          "state": {
            "_view_name": "LayoutView",
            "grid_template_rows": null,
            "right": null,
            "justify_content": null,
            "_view_module": "@jupyter-widgets/base",
            "overflow": null,
            "_model_module_version": "1.2.0",
            "_view_count": null,
            "flex_flow": null,
            "width": null,
            "min_width": null,
            "border": null,
            "align_items": null,
            "bottom": null,
            "_model_module": "@jupyter-widgets/base",
            "top": null,
            "grid_column": null,
            "overflow_y": null,
            "overflow_x": null,
            "grid_auto_flow": null,
            "grid_area": null,
            "grid_template_columns": null,
            "flex": null,
            "_model_name": "LayoutModel",
            "justify_items": null,
            "grid_row": null,
            "max_height": null,
            "align_content": null,
            "visibility": null,
            "align_self": null,
            "height": null,
            "min_height": null,
            "padding": null,
            "grid_auto_rows": null,
            "grid_gap": null,
            "max_width": null,
            "order": null,
            "_view_module_version": "1.2.0",
            "grid_template_areas": null,
            "object_position": null,
            "object_fit": null,
            "grid_auto_columns": null,
            "margin": null,
            "display": null,
            "left": null
          }
        }
      }
    }
  },
  "nbformat": 4,
  "nbformat_minor": 0
}