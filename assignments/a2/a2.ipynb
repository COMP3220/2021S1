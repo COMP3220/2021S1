{
  "nbformat": 4,
  "nbformat_minor": 0,
  "metadata": {
    "language_info": {
      "codemirror_mode": {
        "name": "ipython",
        "version": 3
      },
      "file_extension": ".py",
      "mimetype": "text/x-python",
      "name": "python",
      "nbconvert_exporter": "python",
      "pygments_lexer": "ipython3",
      "version": "3.8.3-final"
    },
    "orig_nbformat": 2,
    "kernelspec": {
      "name": "base",
      "display_name": "Python 3.7",
      "language": "python"
    },
    "colab": {
      "name": "a2.ipynb",
      "provenance": [],
      "toc_visible": true
    }
  },
  "cells": [
    {
      "cell_type": "markdown",
      "metadata": {
        "id": "LmNsQmiFBWNy"
      },
      "source": [
        "# Assignment 2 - Classification of Sentences from Medical Publications\n",
        "\n",
        "**Submission deadline: Friday 23 April, 11pm** \n",
        "\n",
        "**Penalty for late submission: 2 marks per day late or part thereof**\n",
        "\n",
        "**Assessment marks: 20 marks (20% of the total unit assessment)**\n",
        "\n",
        "In this assignment you will implement several systems that classify sentences from the abstracts of medical publications.\n",
        "\n",
        "The data is from a Kaggle in Class competition what we organised in 2012, as part of the Australasian Language Technology Association series of shared tasks: \n",
        "\n",
        "* [ALTA-NICTA Challenge](https://www.kaggle.com/c/alta-nicta-challenge2)\n",
        "\n",
        "For more information about the original shared task, follow these links:\n",
        "\n",
        "* [Description of the 2012 ALTA-NICTA Challenge](http://www.alta.asn.au/events/sharedtask2012/description.html).\n",
        "* [Kaggle-in-class Competition Page](https://www.kaggle.com/c/alta-nicta-challenge2).\n"
      ]
    },
    {
      "cell_type": "markdown",
      "metadata": {
        "id": "t5bO7g2KBWN1"
      },
      "source": [
        "## Data\n",
        "The data are stored in this CSV file:\n",
        "\n",
        "* [train.csv](train.csv)\n",
        "\n",
        "Below you can see the first lines of the file:\n",
        "\n",
        "```\n",
        "Prediction,Label,Document,Sentence,Text\n",
        "0,background,10072623,1,OBJECTIVES\n",
        "0,intervention,10072623,1,OBJECTIVES\n",
        "0,population,10072623,1,OBJECTIVES\n",
        "0,outcome,10072623,1,OBJECTIVES\n",
        "1,other,10072623,1,OBJECTIVES\n",
        "0,\"study design\",10072623,1,OBJECTIVES\n",
        "1,background,10072623,2,\"We wanted to evaluate the urodynamic changes of radical retropubic prostatectomy in patients with localized prostate cancer and identify specific factors that could influence the postoperative continence status.\"\n",
        "1,intervention,10072623,2,\"We wanted to evaluate the urodynamic changes of radical retropubic prostatectomy in patients with localized prostate cancer and identify specific factors that could influence the postoperative continence status.\"\n",
        "1,population,10072623,2,\"We wanted to evaluate the urodynamic changes of radical retropubic prostatectomy in patients with localized prostate cancer and identify specific factors that could influence the postoperative continence status.\"\n",
        "0,outcome,10072623,2,\"We wanted to evaluate the urodynamic changes of radical retropubic prostatectomy in patients with localized prostate cancer and identify specific factors that could influence the postoperative continence status.\"\n",
        "0,other,10072623,2,\"We wanted to evaluate the urodynamic changes of radical retropubic prostatectomy in patients with localized prostate cancer and identify specific factors that could influence the postoperative continence status.\"\n",
        "0,\"study design\",10072623,2,\"We wanted to evaluate the urodynamic changes of radical retropubic prostatectomy in patients with localized prostate cancer and identify specific factors that could influence the postoperative continence status.\"\n",
        "```\n",
        "\n",
        "Each line represents the label of one sentence. The file is in CSV format (comma separated values), and the values correspond to the following:\n",
        "\n",
        "1. `Prediction`: 1 if the text has the label, 0 if it doesn't.\n",
        "2. `Label`: One of `background`, `intervention`, `population`, `outcome`, `study design`, `other` (see below).\n",
        "3. `Document`: Document ID. A document may contain several sentences.\n",
        "4. `Sentence`: Sentence ID. 1 for the first sentence, 2 for the second sentence, and so on.\n",
        "5. `Text`: The contents of the sentence.\n",
        "\n",
        "A sentence may have 1 or more of 6 possible labels, and consequently the same sentence appears in multiple lines, one per label. The possible labels are: \n",
        "\n",
        "* `background`: the sentence describes background information.\n",
        "* `intervention`: the sentence describes a medical intervention.\n",
        "* `population`: the sentence describes characteristics of the population being described in the publication. For example, the age of the subjects of study, their country of origin, etc.\n",
        "* `outcome`: the sentence describes the outcome of the study, e.g. whether the intervention was effective.\n",
        "* `study design`: the sentence contains details of the study design.\n",
        "* `other`: anything else. For example, in the sample above, the text \"OBJECTIVES\" was a section heading. \n",
        "\n",
        "The first number of each line indicates whether the label is assigned to the sentence (1) or not (0).\n",
        "\n",
        "For example, the first sentence of document with ID 10072623 has the label \"other\", but the second sentence has the labels \"background\", \"intervention\", and \"population\".\n",
        "\n",
        "**Your task will be to write code that predicts the label or labels of the input sentences.** This is what is called \"multi-label classification\".\n",
        "\n",
        "**If you haven't completed the exercises of week 6 practical, complete them before attempting this assignment. They are designed to help with the assignment.**\n",
        "\n",
        "The following code uses the `pandas` library (https://pandas.pydata.org/) to read the data, and `matplotlib` (https://matplotlib.org/) to plot the distribution of labels."
      ]
    },
    {
      "cell_type": "code",
      "metadata": {
        "id": "zZOjbXthBWN3"
      },
      "source": [
        "%matplotlib inline\n",
        "import pandas as pd\n",
        "from matplotlib import pyplot as plt"
      ],
      "execution_count": 1,
      "outputs": []
    },
    {
      "cell_type": "code",
      "metadata": {
        "id": "redY0CCmBWN4",
        "outputId": "fbd6e2e4-36ec-4d52-ca87-506051640d3d",
        "colab": {
          "base_uri": "https://localhost:8080/",
          "height": 363
        }
      },
      "source": [
        "train_pd = pd.read_csv('https://raw.githubusercontent.com/COMP3220/2021S1/main/assignments/a2/train.csv')\n",
        "train_pd.head(10)"
      ],
      "execution_count": 2,
      "outputs": [
        {
          "output_type": "execute_result",
          "data": {
            "text/html": [
              "<div>\n",
              "<style scoped>\n",
              "    .dataframe tbody tr th:only-of-type {\n",
              "        vertical-align: middle;\n",
              "    }\n",
              "\n",
              "    .dataframe tbody tr th {\n",
              "        vertical-align: top;\n",
              "    }\n",
              "\n",
              "    .dataframe thead th {\n",
              "        text-align: right;\n",
              "    }\n",
              "</style>\n",
              "<table border=\"1\" class=\"dataframe\">\n",
              "  <thead>\n",
              "    <tr style=\"text-align: right;\">\n",
              "      <th></th>\n",
              "      <th>Prediction</th>\n",
              "      <th>Label</th>\n",
              "      <th>Document</th>\n",
              "      <th>Sentence</th>\n",
              "      <th>Text</th>\n",
              "    </tr>\n",
              "  </thead>\n",
              "  <tbody>\n",
              "    <tr>\n",
              "      <th>0</th>\n",
              "      <td>0</td>\n",
              "      <td>background</td>\n",
              "      <td>10072623</td>\n",
              "      <td>1</td>\n",
              "      <td>OBJECTIVES</td>\n",
              "    </tr>\n",
              "    <tr>\n",
              "      <th>1</th>\n",
              "      <td>0</td>\n",
              "      <td>intervention</td>\n",
              "      <td>10072623</td>\n",
              "      <td>1</td>\n",
              "      <td>OBJECTIVES</td>\n",
              "    </tr>\n",
              "    <tr>\n",
              "      <th>2</th>\n",
              "      <td>0</td>\n",
              "      <td>population</td>\n",
              "      <td>10072623</td>\n",
              "      <td>1</td>\n",
              "      <td>OBJECTIVES</td>\n",
              "    </tr>\n",
              "    <tr>\n",
              "      <th>3</th>\n",
              "      <td>0</td>\n",
              "      <td>outcome</td>\n",
              "      <td>10072623</td>\n",
              "      <td>1</td>\n",
              "      <td>OBJECTIVES</td>\n",
              "    </tr>\n",
              "    <tr>\n",
              "      <th>4</th>\n",
              "      <td>1</td>\n",
              "      <td>other</td>\n",
              "      <td>10072623</td>\n",
              "      <td>1</td>\n",
              "      <td>OBJECTIVES</td>\n",
              "    </tr>\n",
              "    <tr>\n",
              "      <th>5</th>\n",
              "      <td>0</td>\n",
              "      <td>study design</td>\n",
              "      <td>10072623</td>\n",
              "      <td>1</td>\n",
              "      <td>OBJECTIVES</td>\n",
              "    </tr>\n",
              "    <tr>\n",
              "      <th>6</th>\n",
              "      <td>1</td>\n",
              "      <td>background</td>\n",
              "      <td>10072623</td>\n",
              "      <td>2</td>\n",
              "      <td>We wanted to evaluate the urodynamic changes o...</td>\n",
              "    </tr>\n",
              "    <tr>\n",
              "      <th>7</th>\n",
              "      <td>1</td>\n",
              "      <td>intervention</td>\n",
              "      <td>10072623</td>\n",
              "      <td>2</td>\n",
              "      <td>We wanted to evaluate the urodynamic changes o...</td>\n",
              "    </tr>\n",
              "    <tr>\n",
              "      <th>8</th>\n",
              "      <td>1</td>\n",
              "      <td>population</td>\n",
              "      <td>10072623</td>\n",
              "      <td>2</td>\n",
              "      <td>We wanted to evaluate the urodynamic changes o...</td>\n",
              "    </tr>\n",
              "    <tr>\n",
              "      <th>9</th>\n",
              "      <td>0</td>\n",
              "      <td>outcome</td>\n",
              "      <td>10072623</td>\n",
              "      <td>2</td>\n",
              "      <td>We wanted to evaluate the urodynamic changes o...</td>\n",
              "    </tr>\n",
              "  </tbody>\n",
              "</table>\n",
              "</div>"
            ],
            "text/plain": [
              "   Prediction  ...                                               Text\n",
              "0           0  ...                                         OBJECTIVES\n",
              "1           0  ...                                         OBJECTIVES\n",
              "2           0  ...                                         OBJECTIVES\n",
              "3           0  ...                                         OBJECTIVES\n",
              "4           1  ...                                         OBJECTIVES\n",
              "5           0  ...                                         OBJECTIVES\n",
              "6           1  ...  We wanted to evaluate the urodynamic changes o...\n",
              "7           1  ...  We wanted to evaluate the urodynamic changes o...\n",
              "8           1  ...  We wanted to evaluate the urodynamic changes o...\n",
              "9           0  ...  We wanted to evaluate the urodynamic changes o...\n",
              "\n",
              "[10 rows x 5 columns]"
            ]
          },
          "metadata": {
            "tags": []
          },
          "execution_count": 2
        }
      ]
    },
    {
      "cell_type": "markdown",
      "metadata": {
        "id": "AChujVcGBWN6"
      },
      "source": [
        "To plot the data we will convert the data from a \"long\" format to a \"wide\" format that can be processed more easily. In this wide format, there is one column for each label. The code to do this uses panda's `pivot_table`:"
      ]
    },
    {
      "cell_type": "code",
      "metadata": {
        "id": "undLRMGhBWN7",
        "outputId": "189468d7-be8e-425c-a93e-1bd31f7258e5",
        "colab": {
          "base_uri": "https://localhost:8080/",
          "height": 206
        }
      },
      "source": [
        "train_pd = train_pd.pivot_table(index=['Document','Sentence','Text'], columns=['Label'], values='Prediction').reset_index() \n",
        "train_pd.head()"
      ],
      "execution_count": 3,
      "outputs": [
        {
          "output_type": "execute_result",
          "data": {
            "text/html": [
              "<div>\n",
              "<style scoped>\n",
              "    .dataframe tbody tr th:only-of-type {\n",
              "        vertical-align: middle;\n",
              "    }\n",
              "\n",
              "    .dataframe tbody tr th {\n",
              "        vertical-align: top;\n",
              "    }\n",
              "\n",
              "    .dataframe thead th {\n",
              "        text-align: right;\n",
              "    }\n",
              "</style>\n",
              "<table border=\"1\" class=\"dataframe\">\n",
              "  <thead>\n",
              "    <tr style=\"text-align: right;\">\n",
              "      <th>Label</th>\n",
              "      <th>Document</th>\n",
              "      <th>Sentence</th>\n",
              "      <th>Text</th>\n",
              "      <th>background</th>\n",
              "      <th>intervention</th>\n",
              "      <th>other</th>\n",
              "      <th>outcome</th>\n",
              "      <th>population</th>\n",
              "      <th>study design</th>\n",
              "    </tr>\n",
              "  </thead>\n",
              "  <tbody>\n",
              "    <tr>\n",
              "      <th>0</th>\n",
              "      <td>145506</td>\n",
              "      <td>1</td>\n",
              "      <td>The rare liquor leakage syndrome with cranial ...</td>\n",
              "      <td>1</td>\n",
              "      <td>0</td>\n",
              "      <td>0</td>\n",
              "      <td>0</td>\n",
              "      <td>0</td>\n",
              "      <td>0</td>\n",
              "    </tr>\n",
              "    <tr>\n",
              "      <th>1</th>\n",
              "      <td>145506</td>\n",
              "      <td>2</td>\n",
              "      <td>This does not occur after a suboccipital punct...</td>\n",
              "      <td>1</td>\n",
              "      <td>0</td>\n",
              "      <td>0</td>\n",
              "      <td>0</td>\n",
              "      <td>0</td>\n",
              "      <td>0</td>\n",
              "    </tr>\n",
              "    <tr>\n",
              "      <th>2</th>\n",
              "      <td>145506</td>\n",
              "      <td>3</td>\n",
              "      <td>A report is given on three cases with differen...</td>\n",
              "      <td>0</td>\n",
              "      <td>0</td>\n",
              "      <td>0</td>\n",
              "      <td>0</td>\n",
              "      <td>1</td>\n",
              "      <td>0</td>\n",
              "    </tr>\n",
              "    <tr>\n",
              "      <th>3</th>\n",
              "      <td>145506</td>\n",
              "      <td>4</td>\n",
              "      <td>The prognosis of the eye-muscle paresis is good.</td>\n",
              "      <td>0</td>\n",
              "      <td>0</td>\n",
              "      <td>0</td>\n",
              "      <td>1</td>\n",
              "      <td>0</td>\n",
              "      <td>0</td>\n",
              "    </tr>\n",
              "    <tr>\n",
              "      <th>4</th>\n",
              "      <td>145506</td>\n",
              "      <td>5</td>\n",
              "      <td>Restitutio ad integrum resulted.</td>\n",
              "      <td>0</td>\n",
              "      <td>0</td>\n",
              "      <td>0</td>\n",
              "      <td>1</td>\n",
              "      <td>0</td>\n",
              "      <td>0</td>\n",
              "    </tr>\n",
              "  </tbody>\n",
              "</table>\n",
              "</div>"
            ],
            "text/plain": [
              "Label  Document  Sentence  ... population  study design\n",
              "0        145506         1  ...          0             0\n",
              "1        145506         2  ...          0             0\n",
              "2        145506         3  ...          1             0\n",
              "3        145506         4  ...          0             0\n",
              "4        145506         5  ...          0             0\n",
              "\n",
              "[5 rows x 9 columns]"
            ]
          },
          "metadata": {
            "tags": []
          },
          "execution_count": 3
        }
      ]
    },
    {
      "cell_type": "markdown",
      "metadata": {
        "id": "8KKQN_BzBWN8"
      },
      "source": [
        "Let's plot the distribution of labels:"
      ]
    },
    {
      "cell_type": "code",
      "metadata": {
        "id": "eqnUnisDBWN8",
        "outputId": "c52b6e8f-edfc-49ef-b6c9-73168f7dfba8",
        "colab": {
          "base_uri": "https://localhost:8080/"
        }
      },
      "source": [
        "labels = ['background', 'intervention', 'population', 'outcome', 'study design', 'other']\n",
        "label_counts = []\n",
        "for l in labels:\n",
        "    counts = train_pd[l].sum()\n",
        "    label_counts.append(counts)\n",
        "print(label_counts)"
      ],
      "execution_count": 4,
      "outputs": [
        {
          "output_type": "stream",
          "text": [
            "[2031, 565, 662, 3564, 193, 2712]\n"
          ],
          "name": "stdout"
        }
      ]
    },
    {
      "cell_type": "code",
      "metadata": {
        "id": "O0DkhPyMBWN9",
        "outputId": "cdd1af02-3e37-4048-c427-f99dc814f929",
        "colab": {
          "base_uri": "https://localhost:8080/",
          "height": 374
        }
      },
      "source": [
        "plt.figure(figsize=(12,6))\n",
        "plt.bar(range(6), label_counts)\n",
        "plt.xticks(range(6), labels)\n",
        "plt.show()"
      ],
      "execution_count": 5,
      "outputs": [
        {
          "output_type": "display_data",
          "data": {
            "image/png": "[encoded data removed]",
            "text/plain": [
              "<Figure size 864x432 with 1 Axes>"
            ]
          },
          "metadata": {
            "tags": [],
            "needs_background": "light"
          }
        }
      ]
    },
    {
      "cell_type": "markdown",
      "metadata": {
        "id": "2r0epPtrBWN_"
      },
      "source": [
        "We can see that the training data contain 800 documents:"
      ]
    },
    {
      "cell_type": "code",
      "metadata": {
        "id": "8o2w6t6YBWN_",
        "outputId": "02c77088-01e1-4b78-c43f-52826d8ffda8",
        "colab": {
          "base_uri": "https://localhost:8080/"
        }
      },
      "source": [
        "documents = list(set(train_pd['Document']))\n",
        "print(len(documents))"
      ],
      "execution_count": 6,
      "outputs": [
        {
          "output_type": "stream",
          "text": [
            "800\n"
          ],
          "name": "stdout"
        }
      ]
    },
    {
      "cell_type": "markdown",
      "metadata": {
        "id": "v-Jtx6Y8BWOC"
      },
      "source": [
        "# Task 1 (5 marks): Data partition\n",
        "Based on the list of documents (for example, use the variable `documents` above), partition the data into three sets: a training set, a devtest set, and a test set, so that:\n",
        "\n",
        "* The training set uses 600 documents.\n",
        "* The dev-test set uses 100 documents.\n",
        "* The test set uses 100 documents.\n",
        "\n",
        "Make sure that the partition is a **random partition**. That is, you need to shuffle the list of documents before you make the partitions. Also, to facilitate reproducibility, execute the following cell that sets a specific random seed:\n",
        "\n"
      ]
    },
    {
      "cell_type": "code",
      "metadata": {
        "id": "QAuRM7tOBWOD"
      },
      "source": [
        "import random\n",
        "random.seed(1234)"
      ],
      "execution_count": 7,
      "outputs": []
    },
    {
      "cell_type": "markdown",
      "metadata": {
        "id": "HPrtloV4BWOD"
      },
      "source": [
        "After writing the code, answer the following questions using additional text cells in this Jupyter notebook:\n",
        "\n",
        "1. (1 mark) Why do we want to use document IDs, and not individual sentences, to make the partition?\n",
        "2. (1 mark) Plot the distribution of labels in each partition and comment on whether these distributions are similar.\n",
        "\n",
        "The remaining 3 marks are for the code that performs the partition.\n",
        "\n",
        "Hint: If you want to iterate through each row of the pandas data frame `train_pd`, you can use `itertuples`. Read, for example:\n",
        "\n",
        "* https://www.geeksforgeeks.org/different-ways-to-iterate-over-rows-in-pandas-dataframe/\n",
        "* https://stackoverflow.com/questions/16476924/how-to-iterate-over-rows-in-a-dataframe-in-pandas\n",
        "\n",
        "Here is some code that shows the output of `itertuples`  over the first three rows:\n",
        "\n",
        "```\n",
        "train_pd_tuples = [r for r in train_pd.itertuples(index=False, name=None)]\n",
        "train_pd_tuples[:3]\n",
        "```"
      ]
    },
    {
      "cell_type": "code",
      "metadata": {
        "id": "mhVOCU6rBWOD"
      },
      "source": [
        "# Write your solution here. Don't forget to add text cells where you answer the questions being asked in this task.\n"
      ],
      "execution_count": null,
      "outputs": []
    },
    {
      "cell_type": "markdown",
      "metadata": {
        "id": "mjJ47jAZBWOE"
      },
      "source": [
        "# Task 2 (5 marks): Naive Bayes\n",
        "\n",
        "Using scikit-learn, train 6 separate Naive Bayes classifiers (hint: use `MultinomialNB` for each of the classifiers). Each classifier must be trained with the part of the training data that corresponds with one of the possible labels. For example:\n",
        "\n",
        "1. Train a Naive Bayes classifier using only the data that corresponds with the \"background\" label.\n",
        "2. Train a **different** Naive Bayes classifier using only the data that corresponds with the \"intervention\" label.\n",
        "3. And so on with the other labels, for a total of 6 different classifiers.\n",
        "\n",
        "Make sure that you train only with the training data. For each classifier, report the accuracy on the training data, devtest data, and test data.\n",
        "\n",
        "Use tf.idf of the top 10000 words as the feature extractor (hint: use scikit-learn's `TfidfVectorizer`, and use the option `max_features=10000`). You do not need to use stop words or stemming for this task.\n",
        "\n",
        "Report the evaluation of your classifers and answer the following questions.\n",
        "\n",
        "1. (1 mark) What evaluation metric did you choose and why?\n",
        "2. (1 mark) Comment on whether any of the 6 classifiers is overfitting and explain how you determined whether they are overfitting.\n",
        "\n",
        "The remaining 3 marks will be allocated to the code that implements and evaluates the Naive Bayes classifiers."
      ]
    },
    {
      "cell_type": "code",
      "metadata": {
        "id": "yxmja4tEBWOE"
      },
      "source": [
        "# Write your solution here. Don't forget to add text cells where you answer the questions being asked in this task."
      ],
      "execution_count": null,
      "outputs": []
    },
    {
      "cell_type": "markdown",
      "metadata": {
        "id": "yIlmbJyBBWOF"
      },
      "source": [
        "# Task 3 (5 marks): A Simple Neural Network\n",
        "Implement a simple TensorFlow-Keras neural model that has the following sequence of layers:\n",
        "\n",
        "1. An input layer that will accept tf.idf information.\n",
        "2. An output layer that has 6 cells. Each cell will classify the sentence into one of the 6 possible sentence types.\n",
        "\n",
        "As in the previous task, train the classifier with the tf.idf information of the input sentences. (Hint: sklearn produces sparse tf.idf matrices but TensorFlow models only accept dense matrices so you need to convert the tf_idf matrix of the training data into a dense Numpy array. As we have seen in the lectures, you can use `toarray` to convert the sparse matrix into a dense Numpy array.)\n",
        "\n",
        "Train and test your system and report on the results. Include text cells in this Jupyter notebook where you must answer the following questions (2 marks):\n",
        "\n",
        "1. How many parameters does the model have?\n",
        "2. What is the optimal number of epochs? How do you know this is the optimal number of epochs?\n",
        "3. Does your system overfit when training with the optimal number of epochs? How can you determine this?\n",
        "4. How do the results compare against the Naive Bayes implementation of the previous task?\n",
        "\n",
        "The remaining 3 marks will be allocated to the code."
      ]
    },
    {
      "cell_type": "code",
      "metadata": {
        "id": "ikjNnYuaBWOF"
      },
      "source": [
        "# Write your solution here. Don't forget to add text cells where you answer the questions being asked in this task."
      ],
      "execution_count": null,
      "outputs": []
    },
    {
      "cell_type": "markdown",
      "metadata": {
        "id": "wApsjK7wBWOG"
      },
      "source": [
        "# Task 4 (5 marks): A Recurrent Neural Network\n",
        "Implement a more complex neural network what is composed of the following sequence of layers:\n",
        "\n",
        "* An embedding layer that generates **embedding vectors with 40 dimensions**. Tensorflow requires that this input list be of fixed length. You need to choose the appropriate length by examining the distribution of lengths of the input sentences. (Hint: to set the fixed input length, use TensorFlow's `pad_sequences`). Also, restrict the vocabulary to the **10000 most frequent words** of the training set (Hint: use [Keras' tokenizer](https://www.tensorflow.org/api_docs/python/tf/keras/preprocessing/text/Tokenizer) with the option `num_words=10000`)\n",
        "* A LSTM layer that generates an **output of 50 dimensions**.\n",
        "* The final output layer composed of the **6 binary classifiers**.\n",
        "\n",
        "Train the system on the training data and evaluate the results. Compare with the previous systems and conduct the same kind of analysis that you did in the previous tasks.\n",
        "\n",
        "The marks for this task will be allocated as follows:\n",
        "\n",
        "* 3 marks for the code.\n",
        "* 2 marks for the explanations and analysis."
      ]
    },
    {
      "cell_type": "code",
      "metadata": {
        "id": "6BASznlPBWOG"
      },
      "source": [
        "# Write your solution here. Don't forget to add text cells where you answer the questions being asked in this task."
      ],
      "execution_count": null,
      "outputs": []
    },
    {
      "cell_type": "markdown",
      "metadata": {
        "id": "kHso1PLIBWOG"
      },
      "source": [
        "# Submission of results\n",
        "\n",
        "Your submission should consist of this Jupyter notebook with all your code and explanations inserted into the notebook. **The notebook should contain the output of the runs. All code should run. Code with syntax errors or code without output will not be assessed.**\n",
        "\n",
        "**Do not submit multiple files. If you feel you need to submit multiple files, please contact Diego.Molla-Aliod@mq.edu.au first.**\n",
        "\n",
        "Examine the cells of this notebook so that you can have an idea of how to format text for good visual impact. You can also read this [useful guide to the MarkDown notation](http://daringfireball.net/projects/markdown/syntax), which explains the format of the text cells.\n",
        "\n",
        "Each task specifies a number of marks. The final mark of the assignment is the sum of all the marks of each individual task, after applying any deductions for late submission.\n",
        "\n",
        "By submitting this assignment you are acknowledging that this is your own work. Any submissions that break the code of academic honesty will be penalised as per [the academic integrity policy](https://staff.mq.edu.au/work/strategy-planning-and-governance/university-policies-and-procedures/policies/academic-integrity).\n"
      ]
    },
    {
      "cell_type": "code",
      "metadata": {
        "id": "8ypzBf8bBWOH"
      },
      "source": [
        ""
      ],
      "execution_count": null,
      "outputs": []
    }
  ]
}